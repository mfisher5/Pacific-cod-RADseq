{
 "cells": [
  {
   "cell_type": "markdown",
   "metadata": {},
   "source": [
    "## Identifying Outlier Loci\n",
    "\n",
    "### stacks batch 8 verif\n",
    "<br>\n",
    "\n",
    "This notebook contains procedures and code used to identify outliers in the final filtered genepop file for Korea PCod. \n",
    "This includes:\n",
    "\n",
    "1. all samples\n",
    "    - `OutFLANK`\n",
    "    - `Bayescan`; priors of 10,100,1K,10K\n",
    "2. southern samples\n",
    "    - `OutFLANK`\n",
    "    - `Bayescan`: priors of 100, 1K\n",
    "3. temporal samples\n",
    "    - `OutFLANK`\n",
    "4. east v. west samples\n",
    "    - `OutFLANK`\n",
    "5. south v. west samples \n",
    "    - `OutFLANK`\n",
    "6. Comparison of loci identified in OutFLANK v. Bayescan.\n",
    "\n",
    "\n",
    "**Programs used:**\n",
    "<br>\n",
    "`Bayescan` v2.1\n",
    "<br>\n",
    "[OutFLANK R Script](https://github.com/mfisher5/PCod-Korea-repo/blob/master/analyses/Outliers/Outflank_FST_diploids.r) (version not written on script)\n",
    "\n",
    "\n",
    "<br>\n",
    "**Output**: Can be found in the excel spreadsheet, `results/Outliers_verif.xlsx`\n",
    "\n",
    "<br>\n",
    "\n",
    "\n",
    "<br>\n",
    "\n",
    "\n",
    "<br>\n",
    "#### 3/8/2018\n",
    "\n",
    "### OutFLANK\n",
    "\n",
    "[Github](https://github.com/whitlock/OutFLANK/blob/master/R/OutFLANK.R) \n",
    "\n",
    "[PDF Manual](https://github.com/whitlock/OutFLANK/blob/master/OutFLANK%20readme.pdf)\n",
    "\n",
    "**OutFLANK output saved in an excel file in the `Results` folder.**\n",
    "\n",
    "**(1) Convert Genepop file to OutFLANK file format.** Luckily, OutFLANK has a nice R function for this. However, you still need to manipulate your Genepop file to a certain file format to put it into that R function. the following python script will take a genepop file and a population map, and output three of the inputs for the OutFLANK function `MakeDiploidFSTMat()`. This is: \n",
    "1. a file containing a matrix of individuals (rows) x loci (columns) without headings. Alleles are coded in a `0`,`1`, `2`, `9` format. \n",
    "2. a file where each locus name is on a new line, as a string. This can be read directly into R as a list\n",
    "3. a file where each sample's population name is on a new line (same order as matrix rows). This can also be read directly into R as a list. "
   ]
  },
  {
   "cell_type": "code",
   "execution_count": 1,
   "metadata": {},
   "outputs": [
    {
     "data": {
      "text/plain": [
       "u'/mnt/hgfs/PCod-Korea-repo/notebooks'"
      ]
     },
     "execution_count": 1,
     "metadata": {},
     "output_type": "execute_result"
    }
   ],
   "source": [
    "pwd"
   ]
  },
  {
   "cell_type": "code",
   "execution_count": 2,
   "metadata": {},
   "outputs": [
    {
     "name": "stdout",
     "output_type": "stream",
     "text": [
      "/mnt/hgfs/PCod-Korea-repo/analyses\n"
     ]
    }
   ],
   "source": [
    "cd ../analyses/"
   ]
  },
  {
   "cell_type": "code",
   "execution_count": 3,
   "metadata": {},
   "outputs": [
    {
     "name": "stdout",
     "output_type": "stream",
     "text": [
      "/mnt/hgfs/PCod-Korea-repo/analyses/Outliers\n"
     ]
    }
   ],
   "source": [
    "cd Outliers/"
   ]
  },
  {
   "cell_type": "code",
   "execution_count": 4,
   "metadata": {
    "scrolled": true
   },
   "outputs": [
    {
     "name": "stdout",
     "output_type": "stream",
     "text": [
      "usage: convert_genepop_to_SNPmat.py [-h] [-i INPUT] [-p POPMAP] [-o OUTPUT]\r\n",
      "                                    [-ol OUTLOCUSNAMES] [-op OUTPOPNAMES]\r\n",
      "\r\n",
      "produce SNPmat file, and files containing loci / population lists for OutFLANK\r\n",
      "outlier analysis.\r\n",
      "\r\n",
      "optional arguments:\r\n",
      "  -h, --help            show this help message and exit\r\n",
      "  -i INPUT, --input INPUT\r\n",
      "                        genepop file that you want to run through OutFLANK\r\n",
      "  -p POPMAP, --popmap POPMAP\r\n",
      "                        population map from stacks (each line has sample - tab\r\n",
      "                        - population\r\n",
      "  -o OUTPUT, --output OUTPUT\r\n",
      "                        bash shell script file name. must have file extension\r\n",
      "                        .sh\r\n",
      "  -ol OUTLOCUSNAMES, --outLocusNames OUTLOCUSNAMES\r\n",
      "                        text file with the name of each locus on each line, to\r\n",
      "                        be read into R\r\n",
      "  -op OUTPOPNAMES, --outPopNames OUTPOPNAMES\r\n",
      "                        text file with the name of each sample's population on\r\n",
      "                        each line, to be read into R\r\n"
     ]
    }
   ],
   "source": [
    "!python convert_genepop_to_SNPmat.py -h"
   ]
  },
  {
   "cell_type": "code",
   "execution_count": 5,
   "metadata": {
    "collapsed": true
   },
   "outputs": [],
   "source": [
    "!mkdir batch8_verif"
   ]
  },
  {
   "cell_type": "code",
   "execution_count": 7,
   "metadata": {},
   "outputs": [
    {
     "name": "stdout",
     "output_type": "stream",
     "text": [
      "Korean Pacific cod filtered final genepop, stacks batch 8 MF 3/8/2018\n",
      "\n",
      "Done creating SNPmat file.\n"
     ]
    }
   ],
   "source": [
    "!python convert_genepop_to_SNPmat.py \\\n",
    "-i ../../stacks_b8_verif/batch_8_filteredMAF_filteredIndivids30_filteredLoci_filteredHWE_filteredCR_genepop.txt \\\n",
    "-p ../../scripts/PopMap_Final.txt \\\n",
    "-o batch8_verif/batch_8_verif_final_filtered_SNPmat.txt \\\n",
    "-ol batch8_verif/batch_8_verif_SNPmat_locusnames.txt \\\n",
    "-op batch8_verif/batch_8_verif_SNPmat_popnames.txt"
   ]
  },
  {
   "cell_type": "markdown",
   "metadata": {},
   "source": [
    "<br>\n",
    "**(2) Run OutFLANK and produce summary file containing outliers.** I used [this R script](https://github.com/mfisher5/PCod-Korea-repo/blob/master/analyses/R/OutFLANK_KorPCod_MF.R), which is well annotated. \n",
    "<br>"
   ]
  },
  {
   "cell_type": "code",
   "execution_count": 9,
   "metadata": {},
   "outputs": [
    {
     "name": "stdout",
     "output_type": "stream",
     "text": [
      "locus,he,fst,meanAlleleFreq,qvals,pv,outlier\r",
      "\r\n",
      "10203,0.485766058697014,0.196194621361391,0.415637860082305,0.0340042113406486,0.000148058975358412,1\r",
      "\r\n",
      "14546,0.322962912369374,0.255211285854974,0.202479338842975,0.00571792115238723,4.97932175824722e-06,1\r",
      "\r\n",
      "17767,0.151628987091046,0.244765201265605,0.0826446280991736,0.0073129286312226,9.55244668809918e-06,1\r",
      "\r\n",
      "18723,0.214082029915989,0.226528580463956,0.121900826446281,0.0122998210403379,2.67775494346978e-05,1\r",
      "\r\n",
      "1904,0.410707095464015,0.201381191671333,0.711297071129707,0.0319372424078581,0.000111247288503424,1\r",
      "\r\n",
      "19221,0.448101398785035,0.303346827157339,0.661087866108787,0.000762883692098093,3.32169967531826e-07,1\r",
      "\r\n",
      "2606,0.13062632333857,0.194841378644889,0.929752066115702,0.0340042113406486,0.000145082686416886,1\r",
      "\r\n",
      "2694,0.366455405691688,0.227479983525084,0.241596638655462,0.0122998210403379,2.50665753045443e-05,1\r",
      "\r\n",
      "3405,0.10140306122449,0.219157320390556,0.946428571428571,0.0143502744216365,3.74898315804728e-05,1\r",
      "\r\n"
     ]
    }
   ],
   "source": [
    "!head batch8_verif/allKOR_b8_verif_outflank_outliers.csv"
   ]
  },
  {
   "cell_type": "markdown",
   "metadata": {},
   "source": [
    "\n",
    "I only have **10 outlier loci**.\n"
   ]
  },
  {
   "cell_type": "markdown",
   "metadata": {},
   "source": [
    "#### \"Pop\" headers by region"
   ]
  },
  {
   "cell_type": "code",
   "execution_count": 8,
   "metadata": {},
   "outputs": [
    {
     "name": "stdout",
     "output_type": "stream",
     "text": [
      "Korean Pacific cod filtered final genepop, by region, stacks batch 8 verif MF 3/8/2018\n",
      "\n",
      "Done creating SNPmat file.\n"
     ]
    }
   ],
   "source": [
    "!python convert_genepop_to_SNPmat.py \\\n",
    "-i ../../stacks_b8_verif/batch_8_filteredMAF_filteredIndivids30_filteredLoci_filteredHWE_filteredCR_byregion.txt \\\n",
    "-p ../../scripts/PopMap_Final.txt \\\n",
    "-o batch8_verif/batch_8_verif_final_filtered_byreg_SNPmat.txt \\\n",
    "-ol batch8_verif/batch_8_verif_SNPmat_byreg_locusnames.txt \\\n",
    "-op batch8_verif/batch_8_verif_SNPmat_byreg_popnames.txt"
   ]
  },
  {
   "cell_type": "code",
   "execution_count": 10,
   "metadata": {},
   "outputs": [
    {
     "name": "stdout",
     "output_type": "stream",
     "text": [
      "locus,he,fst,meanAlleleFreq,qvals,pv,outlier\r",
      "\r\n",
      "10203,0.485766058697014,0.196194621361391,0.415637860082305,0.0340042113406486,0.000148058975358412,1\r",
      "\r\n",
      "14546,0.322962912369374,0.255211285854974,0.202479338842975,0.00571792115238723,4.97932175824722e-06,1\r",
      "\r\n",
      "17767,0.151628987091046,0.244765201265605,0.0826446280991736,0.0073129286312226,9.55244668809918e-06,1\r",
      "\r\n",
      "18723,0.214082029915989,0.226528580463956,0.121900826446281,0.0122998210403379,2.67775494346978e-05,1\r",
      "\r\n",
      "1904,0.410707095464015,0.201381191671333,0.711297071129707,0.0319372424078581,0.000111247288503424,1\r",
      "\r\n",
      "19221,0.448101398785035,0.303346827157339,0.661087866108787,0.000762883692098093,3.32169967531826e-07,1\r",
      "\r\n",
      "2606,0.13062632333857,0.194841378644889,0.929752066115702,0.0340042113406486,0.000145082686416886,1\r",
      "\r\n",
      "2694,0.366455405691688,0.227479983525084,0.241596638655462,0.0122998210403379,2.50665753045443e-05,1\r",
      "\r\n",
      "3405,0.10140306122449,0.219157320390556,0.946428571428571,0.0143502744216365,3.74898315804728e-05,1\r",
      "\r\n"
     ]
    }
   ],
   "source": [
    "!head batch8_verif/allKOR_b8_verif_outflank_outliers_byregion.csv"
   ]
  },
  {
   "cell_type": "markdown",
   "metadata": {},
   "source": [
    "I have the same **10 outliers**.\n",
    "<br>"
   ]
  },
  {
   "cell_type": "markdown",
   "metadata": {},
   "source": [
    "** Southern Populations Only**"
   ]
  },
  {
   "cell_type": "code",
   "execution_count": 11,
   "metadata": {},
   "outputs": [
    {
     "data": {
      "text/plain": [
       "u'/mnt/hgfs/PCod-Korea-repo/analyses/Outliers'"
      ]
     },
     "execution_count": 11,
     "metadata": {},
     "output_type": "execute_result"
    }
   ],
   "source": [
    "pwd"
   ]
  },
  {
   "cell_type": "code",
   "execution_count": 15,
   "metadata": {},
   "outputs": [
    {
     "name": "stdout",
     "output_type": "stream",
     "text": [
      "Korean Pacific cod filtered final genepop, stacks batch 8 MF 3/8/2018\n",
      "\n",
      "Done creating SNPmat file.\n"
     ]
    }
   ],
   "source": [
    "!python convert_genepop_to_SNPmat.py \\\n",
    "-i batch8_verif/batch_8_filteredMAF_filteredIndivids30_filteredLoci_filteredHWE_filteredCR_south.txt \\\n",
    "-p ../../scripts/PopMap_Final.txt \\\n",
    "-o batch8_verif/batch_8_verif_final_filtered_south_SNPmat.txt \\\n",
    "-ol batch8_verif/batch_8_verif_SNPmat_south_locusnames.txt \\\n",
    "-op batch8_verif/batch_8_verif_SNPmat_south_popnames.txt"
   ]
  },
  {
   "cell_type": "markdown",
   "metadata": {},
   "source": [
    "I have **27 outlier loci**\n",
    "\n",
    "<br>\n"
   ]
  },
  {
   "cell_type": "markdown",
   "metadata": {},
   "source": [
    "**Southern Temporal Samples: Jinhae Bay and Geoje**\n",
    "\n",
    "I tried running the code two different ways here. OutFLANK includes an argument called \"NumberOfSamples\", which refers to the number of *spatially* segregated samples in the data set. Technically, that is `1` in both of these runs. However, I wanted to see if anything different occurred when I used `2` instead."
   ]
  },
  {
   "cell_type": "code",
   "execution_count": 16,
   "metadata": {},
   "outputs": [
    {
     "name": "stdout",
     "output_type": "stream",
     "text": [
      "Korean Pacific cod filtered final genepop, stacks batch 8 MF 3/8/2018\n",
      "\n",
      "Done creating SNPmat file.\n"
     ]
    }
   ],
   "source": [
    "!python convert_genepop_to_SNPmat.py \\\n",
    "-i batch8_verif/batch_8_filteredMAF_filteredIndivids30_filteredLoci_filteredHWE_filteredCR_ge.txt \\\n",
    "-p ../../scripts/PopMap_Final.txt \\\n",
    "-o batch8_verif/batch_8_verif_final_filtered_ge_SNPmat.txt \\\n",
    "-ol batch8_verif/batch_8_verif_SNPmat_ge_locusnames.txt \\\n",
    "-op batch8_verif/batch_8_verif_SNPmat_ge_popnames.txt"
   ]
  },
  {
   "cell_type": "markdown",
   "metadata": {},
   "source": [
    "\n",
    "`NumberOfSamples=1` : **1 outlier**\n",
    "\n",
    "`NumberOfSamples=2` : **1 outlier**\n",
    "<br>"
   ]
  },
  {
   "cell_type": "code",
   "execution_count": 17,
   "metadata": {},
   "outputs": [
    {
     "name": "stdout",
     "output_type": "stream",
     "text": [
      "Korean Pacific cod filtered final genepop, stacks batch 8 MF 3/8/2018\n",
      "\n",
      "Done creating SNPmat file.\n"
     ]
    }
   ],
   "source": [
    "!python convert_genepop_to_SNPmat.py \\\n",
    "-i batch8_verif/batch_8_filteredMAF_filteredIndivids30_filteredLoci_filteredHWE_filteredCR_jb.txt \\\n",
    "-p ../../scripts/PopMap_Final.txt \\\n",
    "-o batch8_verif/batch_8_verif_final_filtered_jb_SNPmat.txt \\\n",
    "-ol batch8_verif/batch_8_verif_SNPmat_jb_locusnames.txt \\\n",
    "-op batch8_verif/batch_8_verif_SNPmat_jb_popnames.txt"
   ]
  },
  {
   "cell_type": "markdown",
   "metadata": {},
   "source": [
    "\n",
    "`NumberOfSamples=1` : no outliers\n",
    "\n",
    "`NumberOfSamples=2` : no outliers\n",
    "<br>\n",
    "<br>\n",
    "<br>\n"
   ]
  },
  {
   "cell_type": "markdown",
   "metadata": {},
   "source": [
    "#### 3/9/2018\n",
    "\n",
    "** South v. East **\n",
    "\n",
    "Note that I ran this several ways:\n",
    "1. Genepop file has two populations (south & east); `NumberOfSamples` parameter for `OutFLANK` f(x) = 2\n",
    "2. Genepop file has two populations (south & east); `NumberOfSamples` parameter for `OutFLANK` f(x) = 7\n",
    "3. Genepop file has seven populations (sampling sites); `NumberOfSamples` parameter for `OutFLANK` f(x) = 2\n",
    "\n",
    "It didn't change outlier locus output."
   ]
  },
  {
   "cell_type": "code",
   "execution_count": 18,
   "metadata": {},
   "outputs": [
    {
     "data": {
      "text/plain": [
       "u'/mnt/hgfs/PCod-Korea-repo/analyses/Outliers'"
      ]
     },
     "execution_count": 18,
     "metadata": {},
     "output_type": "execute_result"
    }
   ],
   "source": [
    "pwd"
   ]
  },
  {
   "cell_type": "code",
   "execution_count": 23,
   "metadata": {},
   "outputs": [
    {
     "name": "stdout",
     "output_type": "stream",
     "text": [
      "Korean Pacific cod filtered final genepop, stacks batch 8 MF 3/8/2018\n",
      "\n",
      "Done creating SNPmat file.\n"
     ]
    }
   ],
   "source": [
    "!python convert_genepop_to_SNPmat.py \\\n",
    "-i batch8_verif/batch_8_filteredMAF_filteredIndivids30_filteredLoci_filteredHWE_filteredCR_southeast.txt \\\n",
    "-p ../../scripts/PopMap_L1-5_mdFilter_b8.txt \\\n",
    "-o batch8_verif/batch_8_verif_final_filtered_se_SNPmat.txt \\\n",
    "-ol batch8_verif/batch_8_verif_SNPmat_se_locusnames.txt \\\n",
    "-op batch8_verif/batch_8_verif_SNPmat_se_popnames.txt"
   ]
  },
  {
   "cell_type": "markdown",
   "metadata": {},
   "source": [
    "There are **30 outliers** between eastern and southern populations. \n",
    "\n",
    "\n",
    "<br>\n",
    "<br>\n",
    "** South v. West **"
   ]
  },
  {
   "cell_type": "code",
   "execution_count": 24,
   "metadata": {},
   "outputs": [
    {
     "name": "stdout",
     "output_type": "stream",
     "text": [
      "Korean Pacific cod filtered final genepop, stacks batch 8 MF 3/8/2018\n",
      "\n",
      "Done creating SNPmat file.\n"
     ]
    }
   ],
   "source": [
    "!python convert_genepop_to_SNPmat.py \\\n",
    "-i batch8_verif/batch_8_filteredMAF_filteredIndivids30_filteredLoci_filteredHWE_filteredCR_southwest.txt \\\n",
    "-p ../../scripts/PopMap_L1-5_mdFilter_b8.txt \\\n",
    "-o batch8_verif/batch_8_verif_final_filtered_sw_SNPmat.txt \\\n",
    "-ol batch8_verif/batch_8_verif_SNPmat_sw_locusnames.txt \\\n",
    "-op batch8_verif/batch_8_verif_SNPmat_sw_popnames.txt"
   ]
  },
  {
   "cell_type": "markdown",
   "metadata": {},
   "source": [
    "There are **35 outliers** between western and southern populations.\n",
    "\n",
    "<br>\n",
    "<br>\n"
   ]
  },
  {
   "cell_type": "markdown",
   "metadata": {},
   "source": [
    "** East v. West **"
   ]
  },
  {
   "cell_type": "code",
   "execution_count": 26,
   "metadata": {},
   "outputs": [
    {
     "name": "stdout",
     "output_type": "stream",
     "text": [
      "Korean Pacific cod filtered final genepop, stacks batch 8 MF 3/8/2018\n",
      "\n",
      "Done creating SNPmat file.\n"
     ]
    }
   ],
   "source": [
    "!python convert_genepop_to_SNPmat.py \\\n",
    "-i batch8_verif/batch_8_filteredMAF_filteredIndivids30_filteredLoci_filteredHWE_filteredCR_eastwest.txt \\\n",
    "-p ../../scripts/PopMap_L1-5_mdFilter_b8.txt \\\n",
    "-o batch8_verif/batch_8_verif_final_filtered_ew_SNPmat.txt \\\n",
    "-ol batch8_verif/batch_8_verif_SNPmat_ew_locusnames.txt \\\n",
    "-op batch8_verif/batch_8_verif_SNPmat_ew_popnames.txt"
   ]
  },
  {
   "cell_type": "markdown",
   "metadata": {},
   "source": [
    "There are **no outliers** between eastern and western populations. This is likely because OutFLANK relies solely on FST to calculate outliers, and there is a very high baseline FST between eastern and western coasts.  "
   ]
  },
  {
   "cell_type": "markdown",
   "metadata": {},
   "source": [
    "\n",
    "<br>\n",
    "\n",
    "<br>\n",
    "<br>\n",
    "#### 3/8/2018\n",
    "<br>\n",
    "### Bayescan\n",
    "<br>\n",
    "\n",
    "[Download](http://cmpg.unibe.ch/software/BayeScan/download.html) includes executable scripts and PDF manual. \n",
    "\n",
    "\n",
    "**(1) [Download](http://www.cmpg.unibe.ch/software/PGDSpider/) PGDSpider.** Bayescan uses its own type of input file. They suggest using PGD spider to convert genepop files into this file format\n",
    "\n",
    "**(2) Convert genepop to Bayescan format.** In For SNP data, this can either be a \"codominant\" file format or a \"SNP genotype matrix\" (per Bayescan's user manual). They suggest that if you are not directly interested in Fis, you use SNPs as regular codominant data. In PGDspider, this is just a matter of choosing the file format and file names for the input and ouput files, and then selecting \"SNP\" in two short questions for the SPID file. *Note that using an old SPID file here caused an error; I had to create a new one*\n",
    "\n",
    "**(3) Run Bayescan using the Windows GUI.** looks like this:\n",
    " ![img-bayescan](https://github.com/mfisher5/PCod-Korea-repo/blob/master/nb_pictures/bayescan_gui_verif.png?raw=true)\n",
    " \n",
    "I used the following parameters:\n",
    " ![img-bayescan-options](https://github.com/mfisher5/PCod-Korea-repo/blob/master/nb_pictures/bayescan_gui_verif_params_p10.png?raw=true)\n",
    " \n",
    " \n",
    " Note that I have changed the default \"sample size\" to 20K. This is because in the PCod paper Gruenthal et al. (in review), they reported using 20,000 iterations. according to the Bayescan manual, the \"Number of outputted iterations, default 5000\" appears to be \"sample size\" in the gui and \"-n\" on the command line. \n",
    " <br>\n",
    " \n",
    " #### All sampling sites\n",
    " **RUN 1:** prior odds of 10 (3/8/2018)\n",
    " <br>\n",
    " **RUN 2:** prior odds of 100 (3/8/2018, Eleni's computer)\n",
    " <br>\n",
    " **RUN 3:** prior odds of 1,000 (3/9/2018)\n",
    " <br>\n",
    " **RUN 4**: prior odds of 10,000 (3/10/2018)\n",
    " \n",
    " <br>\n",
    "  #### All sampling sites\n",
    " \n",
    " ___________________________________\n",
    " #### 3/9/2018\n",
    " \n",
    "<br>\n",
    "\n",
    "**(4) Interpreting Bayescan Output.** This can be done in R. I use [this R script](https://github.com/mfisher5/PCod-Korea-repo/blob/master/analyses/R/Bayescan_KorPCod_MF.R) \n",
    "\n",
    "The R script includes two options: \n",
    "1.  Use the original Bayescan plotting functions. To do this, you will need the script [Bayescan_plot](https://github.com/mfisher5/PCod-Korea-repo/blob/master/analyses/R/BAYESCAN_plot_R.r). Since PGDspider changes the loci names, you will then need to (1) copy the R console output which lists outlier loci, and (2) use the python script [bayescan_to_stacks_locus_IDs_outliers.py](https://github.com/mfisher5/PCod-Korea-repo/blob/master/analyses/Outliers/bayescan_to_stacks_locus_IDs_outliers.py) to rename loci. \n",
    "    - pro: provides posterior distribution of fst\n",
    "    - con: harder to customize the outlier plot. labeled loci in outlier plot do not correspond to actual loci names. provides a list of outlier loci names only to console.\n",
    "\n",
    "\n",
    "2. Use an alternative plotting function I made with ggplot. You will first need to run the python script [bayescan_to_stacks_locus_IDs.py](https://github.com/mfisher5/PCod-Korea-repo/blob/master/analyses/Outliers/bayescan_to_stacks_locus_IDs.py) (see below) to generate the input file for this. \n",
    "    - pro: creates an input file that is nicely formatted. uses stacks loci names in R, so loci names on outlier plot correspond to actual loci names. will output a file with outlier loci names and all other information included in Bayescan's FST file. \n",
    "    - con: will not provide posterior distribution of fst. \n",
    "    \n",
    "<br>\n",
    "In this notebook, I went with option 2."
   ]
  },
  {
   "cell_type": "code",
   "execution_count": 28,
   "metadata": {},
   "outputs": [
    {
     "data": {
      "text/plain": [
       "u'/mnt/hgfs/PCod-Korea-repo/analyses/Outliers'"
      ]
     },
     "execution_count": 28,
     "metadata": {},
     "output_type": "execute_result"
    }
   ],
   "source": [
    "pwd"
   ]
  },
  {
   "cell_type": "code",
   "execution_count": 31,
   "metadata": {},
   "outputs": [
    {
     "name": "stdout",
     "output_type": "stream",
     "text": [
      "usage: bayescan_to_stacks_locus_IDs.py [-h] [-i INPUT] [-gen GENEPOP]\r\n",
      "                                       [-o OUTPUT] [-s SEPARATOR]\r\n",
      "                                       [-head HEADER]\r\n",
      "\r\n",
      "Match bayescan outlier loci IDs to the actual stacks IDs (if PGD spider was\r\n",
      "used for file conversion).\r\n",
      "\r\n",
      "optional arguments:\r\n",
      "  -h, --help            show this help message and exit\r\n",
      "  -i INPUT, --input INPUT\r\n",
      "                        fst text file output from bayescan\r\n",
      "  -gen GENEPOP, --genepop GENEPOP\r\n",
      "                        the genepop file used in PGD spyder to create BAYESCAN\r\n",
      "                        input file\r\n",
      "  -o OUTPUT, --output OUTPUT\r\n",
      "                        output text file\r\n",
      "  -s SEPARATOR, --separator SEPARATOR\r\n",
      "                        separator used in genepop file [comma/newline]\r\n",
      "  -head HEADER, --header HEADER\r\n",
      "                        header for output text file. should start with #\r\n"
     ]
    }
   ],
   "source": [
    "!python bayescan_to_stacks_locus_IDs.py -h"
   ]
  },
  {
   "cell_type": "markdown",
   "metadata": {},
   "source": [
    "**Prior of 10**"
   ]
  },
  {
   "cell_type": "code",
   "execution_count": 37,
   "metadata": {},
   "outputs": [
    {
     "name": "stdout",
     "output_type": "stream",
     "text": [
      "indexing stacks loci...\n",
      "You have  5804  loci.\n",
      "copying over BAYESCAN output..\n",
      "Copied over  5804  loci.\n"
     ]
    }
   ],
   "source": [
    "!python bayescan_to_stacks_locus_IDs.py \\\n",
    "-i batch8_verif/batch_8_verif_output_fst.txt \\\n",
    "-gen ../../stacks_b8_verif/batch_8_filteredMAF_filteredIndivids30_filteredLoci_filteredHWE_filteredCR_genepop.txt \\\n",
    "-s \"newline\" \\\n",
    "-o batch8_verif/batch_8_verif_output_fst_stacksIDs.txt"
   ]
  },
  {
   "cell_type": "markdown",
   "metadata": {},
   "source": [
    "**Prior of 100**"
   ]
  },
  {
   "cell_type": "code",
   "execution_count": 38,
   "metadata": {
    "scrolled": true
   },
   "outputs": [
    {
     "name": "stdout",
     "output_type": "stream",
     "text": [
      "indexing stacks loci...\n",
      "You have  5804  loci.\n",
      "copying over BAYESCAN output..\n",
      "Copied over  5804  loci.\n"
     ]
    }
   ],
   "source": [
    "!python bayescan_to_stacks_locus_IDs.py \\\n",
    "-i batch8_verif/batch_8_verif_p100_output_fst.txt \\\n",
    "-gen ../../stacks_b8_verif/batch_8_filteredMAF_filteredIndivids30_filteredLoci_filteredHWE_filteredCR_genepop.txt \\\n",
    "-s \"newline\" \\\n",
    "-o batch8_verif/batch_8_verif_p100_output_fst_stacksIDs.txt"
   ]
  },
  {
   "cell_type": "markdown",
   "metadata": {},
   "source": [
    "<br>\n",
    "#### 3/10/2018"
   ]
  },
  {
   "cell_type": "markdown",
   "metadata": {},
   "source": [
    "**Prior of 1000**"
   ]
  },
  {
   "cell_type": "code",
   "execution_count": 1,
   "metadata": {},
   "outputs": [
    {
     "name": "stdout",
     "output_type": "stream",
     "text": [
      "/mnt/hgfs/PCod-Korea-repo/analyses/Outliers\n"
     ]
    }
   ],
   "source": [
    "cd ../analyses/Outliers/"
   ]
  },
  {
   "cell_type": "code",
   "execution_count": 2,
   "metadata": {
    "scrolled": false
   },
   "outputs": [
    {
     "name": "stdout",
     "output_type": "stream",
     "text": [
      "indexing stacks loci...\n",
      "You have  5804  loci.\n",
      "copying over BAYESCAN output..\n",
      "Copied over  5804  loci.\n"
     ]
    }
   ],
   "source": [
    "!python bayescan_to_stacks_locus_IDs.py \\\n",
    "-i batch8_verif/batch_8_verif_p1K_output_fst.txt \\\n",
    "-gen ../../stacks_b8_verif/batch_8_filteredMAF_filteredIndivids30_filteredLoci_filteredHWE_filteredCR_genepop.txt \\\n",
    "-s \"newline\" \\\n",
    "-o batch8_verif/batch_8_verif_p1000_output_fst_stacksIDs.txt"
   ]
  },
  {
   "cell_type": "markdown",
   "metadata": {},
   "source": [
    "#### 3/11/2018\n",
    "\n",
    "**Prior of 10,000**"
   ]
  },
  {
   "cell_type": "code",
   "execution_count": 3,
   "metadata": {
    "scrolled": true
   },
   "outputs": [
    {
     "name": "stdout",
     "output_type": "stream",
     "text": [
      "indexing stacks loci...\n",
      "You have  5804  loci.\n",
      "copying over BAYESCAN output..\n",
      "Copied over  5804  loci.\n"
     ]
    }
   ],
   "source": [
    "!python bayescan_to_stacks_locus_IDs.py \\\n",
    "-i batch8_verif/batch_8_verif_p10K_output_fst.txt \\\n",
    "-gen ../../stacks_b8_verif/batch_8_filteredMAF_filteredIndivids30_filteredLoci_filteredHWE_filteredCR_genepop.txt \\\n",
    "-s \"newline\" \\\n",
    "-o batch8_verif/batch_8_verif_p10K_output_fst_stacksIDs.txt"
   ]
  },
  {
   "cell_type": "markdown",
   "metadata": {
    "collapsed": true
   },
   "source": [
    "** Now switch over to R and use the R script [Bayescan_KorPCod_MF](https://github.com/mfisher5/PCod-Korea-repo/blob/master/analyses/R/Bayescan_KorPCod_MF.R)**\n"
   ]
  },
  {
   "cell_type": "markdown",
   "metadata": {},
   "source": [
    "__________________________________\n",
    "*just checking to make sure that my R script worked...*"
   ]
  },
  {
   "cell_type": "code",
   "execution_count": 40,
   "metadata": {},
   "outputs": [
    {
     "name": "stdout",
     "output_type": "stream",
     "text": [
      "reading BAYESCAN outliers..\r\n",
      "You have  101  outlier loci.\r\n",
      "indexing stacks loci...\r\n",
      "writing to output...\r\n",
      "Done.\r\n"
     ]
    }
   ],
   "source": [
    "!python bayescan_to_stacks_locus_IDs_outliers.py \\\n",
    "-i batch8_verif/batch_8_BAYESCAN_outliers_test.txt \\\n",
    "-gen ../../stacks_b8_verif/batch_8_filteredMAF_filteredIndivids30_filteredLoci_filteredHWE_filteredCR_genepop.txt \\\n",
    "-sep \"newline\" \\\n",
    "-o batch_8_BAYESCAN_outliers_stacksIDs_TEST.txt \\\n",
    "-head \"Batch 8 BAYESCAN outliers; all samples\""
   ]
  },
  {
   "cell_type": "markdown",
   "metadata": {},
   "source": [
    "__________________________________________________________________________________\n",
    "\n",
    "** Number of loci identified in Bayescan:**\n",
    "1. Prior 10: 100\n",
    "2. Prior 100: 29\n",
    "3. Prior 1000: 12\n",
    "4. Prior 10,000: 6\n",
    "_________________________________________________"
   ]
  },
  {
   "cell_type": "markdown",
   "metadata": {},
   "source": [
    "<br>\n",
    "<br>\n",
    "#### Southern Populations Only\n",
    "**Prior 100**"
   ]
  },
  {
   "cell_type": "code",
   "execution_count": 5,
   "metadata": {},
   "outputs": [
    {
     "name": "stdout",
     "output_type": "stream",
     "text": [
      "indexing stacks loci...\n",
      "You have  5804  loci.\n",
      "copying over BAYESCAN output..\n",
      "Copied over  5804  loci.\n"
     ]
    }
   ],
   "source": [
    "!python bayescan_to_stacks_locus_IDs.py \\\n",
    "-i batch8_verif/batch_8_verif_south_bayescan_p100_output_fst.txt \\\n",
    "-gen ../../stacks_b8_verif/batch_8_filteredMAF_filteredIndivids30_filteredLoci_filteredHWE_filteredCR_genepop.txt \\\n",
    "-s \"newline\" \\\n",
    "-o batch8_verif/batch_8_verif_SOUTH_p100_output_fst_stacksIDs.txt"
   ]
  },
  {
   "cell_type": "markdown",
   "metadata": {},
   "source": [
    "#### Southern Populations Only\n",
    "**Prior 1000**"
   ]
  },
  {
   "cell_type": "code",
   "execution_count": 6,
   "metadata": {
    "scrolled": true
   },
   "outputs": [
    {
     "name": "stdout",
     "output_type": "stream",
     "text": [
      "indexing stacks loci...\n",
      "You have  5804  loci.\n",
      "copying over BAYESCAN output..\n",
      "Copied over  5804  loci.\n"
     ]
    }
   ],
   "source": [
    "!python bayescan_to_stacks_locus_IDs.py \\\n",
    "-i batch8_verif/batch_8_verif_south_bayescan_p1K_output_fst.txt \\\n",
    "-gen ../../stacks_b8_verif/batch_8_filteredMAF_filteredIndivids30_filteredLoci_filteredHWE_filteredCR_genepop.txt \\\n",
    "-s \"newline\" \\\n",
    "-o batch8_verif/batch_8_verif_SOUTH_p1K_output_fst_stacksIDs.txt"
   ]
  },
  {
   "cell_type": "markdown",
   "metadata": {},
   "source": [
    "**Prior 10,000**"
   ]
  },
  {
   "cell_type": "code",
   "execution_count": 4,
   "metadata": {
    "scrolled": true
   },
   "outputs": [
    {
     "name": "stdout",
     "output_type": "stream",
     "text": [
      "indexing stacks loci...\n",
      "You have  5804  loci.\n",
      "copying over BAYESCAN output..\n",
      "Copied over  5804  loci.\n"
     ]
    }
   ],
   "source": [
    "!python bayescan_to_stacks_locus_IDs.py \\\n",
    "-i batch8_verif/batch_8_verif_SOUTH_bayescan_p10K_output_fst.txt \\\n",
    "-gen ../../stacks_b8_verif/batch_8_filteredMAF_filteredIndivids30_filteredLoci_filteredHWE_filteredCR_genepop.txt \\\n",
    "-s \"newline\" \\\n",
    "-o batch8_verif/batch_8_verif_SOUTH_Bayescan_p10K_output_fst_stacksIDs.txt"
   ]
  },
  {
   "cell_type": "markdown",
   "metadata": {},
   "source": [
    "**Prior 10**"
   ]
  },
  {
   "cell_type": "code",
   "execution_count": 2,
   "metadata": {},
   "outputs": [
    {
     "name": "stdout",
     "output_type": "stream",
     "text": [
      "indexing stacks loci...\n",
      "You have  5804  loci.\n",
      "copying over BAYESCAN output..\n",
      "Copied over  5804  loci.\n"
     ]
    }
   ],
   "source": [
    "!python bayescan_to_stacks_locus_IDs.py \\\n",
    "-i batch8_verif/batch_8_verif_SOUTH_bayescan_p10_output_fst.txt \\\n",
    "-gen ../../stacks_b8_verif/batch_8_filteredMAF_filteredIndivids30_filteredLoci_filteredHWE_filteredCR_genepop.txt \\\n",
    "-s \"newline\" \\\n",
    "-o batch8_verif/batch_8_verif_SOUTH_Bayescan_p10_output_fst_stacksIDs.txt"
   ]
  },
  {
   "cell_type": "markdown",
   "metadata": {},
   "source": [
    "______________________________________________\n",
    "** Loci identified in Bayescan for Southern Sites:**\n",
    "\n",
    "Only one locus was identified using both priors - **Locus 24927**.\n",
    "<br>\n",
    "This locus was also identified in OutFLANK among southern sites, AND in OutFLANK between years at Geoje. \n",
    "_______________________________________________________________________"
   ]
  },
  {
   "cell_type": "markdown",
   "metadata": {},
   "source": [
    "<br>\n",
    "\n",
    "\n",
    "<br>\n",
    "<br>\n",
    "\n",
    "\n",
    "___________________________\n",
    "<br>\n",
    "<br>\n",
    "\n",
    "### OutFLANK v. Bayescan\n",
    "\n",
    "** ALL POPULATIONS, PRIOR OF 10 **"
   ]
  },
  {
   "cell_type": "code",
   "execution_count": 42,
   "metadata": {},
   "outputs": [
    {
     "data": {
      "text/plain": [
       "u'/mnt/hgfs/PCod-Korea-repo/analyses/Outliers'"
      ]
     },
     "execution_count": 42,
     "metadata": {},
     "output_type": "execute_result"
    }
   ],
   "source": [
    "pwd"
   ]
  },
  {
   "cell_type": "code",
   "execution_count": 44,
   "metadata": {},
   "outputs": [
    {
     "name": "stdout",
     "output_type": "stream",
     "text": [
      "9  loci identified in Outflank also identified in Bayescan:\n",
      "['10203', '14546', '18723', '1904', '19221', '2606', '2694', '3405', '3699']\n",
      "--\n",
      "Remaining loci:\n",
      "['17767']\n"
     ]
    }
   ],
   "source": [
    "## parse out outflank outlier locus IDs\n",
    "outflank = open(\"batch8_verif/allKOR_b8_verif_outflank_outliers.csv\", \"r\")\n",
    "outflank.readline()\n",
    "\n",
    "outflank_loci = []\n",
    "\n",
    "for line in outflank:\n",
    "    outflank_loci.append(line.strip().split(\",\")[0])\n",
    "outflank.close()\n",
    "\n",
    "## parse out bayescan outlier locus IDs\n",
    "bay = open(\"batch8_verif/batch_8_verif_BAYESCAN_p10_fdr05_outliers.csv\", \"r\")\n",
    "bay.readline()\n",
    "\n",
    "bayescan_loci = []\n",
    "for line in bay:\n",
    "    bayescan_loci.append(line.strip().split(\",\")[0])\n",
    "bay.close()\n",
    "\n",
    "## Identify matching loci\n",
    "matched = [i for i in outflank_loci if i in bayescan_loci]\n",
    "print len(matched), \" loci identified in Outflank also identified in Bayescan:\"\n",
    "print matched\n",
    "print \"--\"\n",
    "print \"Remaining loci:\"\n",
    "print [i for i in outflank_loci if i not in bayescan_loci]"
   ]
  },
  {
   "cell_type": "markdown",
   "metadata": {
    "collapsed": true
   },
   "source": [
    "** ALL POPULATIONS, PRIOR OF 100 **"
   ]
  },
  {
   "cell_type": "code",
   "execution_count": 45,
   "metadata": {},
   "outputs": [
    {
     "name": "stdout",
     "output_type": "stream",
     "text": [
      "7  loci identified in Outflank also identified in Bayescan:\n",
      "['10203', '14546', '18723', '1904', '19221', '2694', '3699']\n",
      "--\n",
      "Remaining loci:\n",
      "['17767', '2606', '3405']\n"
     ]
    }
   ],
   "source": [
    "## parse out outflank outlier locus IDs\n",
    "outflank = open(\"batch8_verif/allKOR_b8_verif_outflank_outliers.csv\", \"r\")\n",
    "outflank.readline()\n",
    "\n",
    "outflank_loci = []\n",
    "\n",
    "for line in outflank:\n",
    "    outflank_loci.append(line.strip().split(\",\")[0])\n",
    "outflank.close()\n",
    "\n",
    "## parse out bayescan outlier locus IDs\n",
    "bay = open(\"batch8_verif/batch_8_verif_BAYESCAN_p100_fdr05_outliers.csv\", \"r\")\n",
    "bay.readline()\n",
    "\n",
    "bayescan_loci = []\n",
    "for line in bay:\n",
    "    bayescan_loci.append(line.strip().split(\",\")[0])\n",
    "bay.close()\n",
    "\n",
    "## Identify matching loci\n",
    "matched = [i for i in outflank_loci if i in bayescan_loci]\n",
    "print len(matched), \" loci identified in Outflank also identified in Bayescan:\"\n",
    "print matched\n",
    "print \"--\"\n",
    "print \"Remaining loci:\"\n",
    "print [i for i in outflank_loci if i not in bayescan_loci]"
   ]
  },
  {
   "cell_type": "markdown",
   "metadata": {
    "collapsed": true
   },
   "source": [
    "** ALL POPULATIONS, PRIOR OF 1000 **"
   ]
  },
  {
   "cell_type": "code",
   "execution_count": 4,
   "metadata": {},
   "outputs": [
    {
     "name": "stdout",
     "output_type": "stream",
     "text": [
      "5  loci identified in Outflank also identified in Bayescan:\n",
      "['10203', '14546', '1904', '19221', '2694']\n",
      "--\n",
      "Remaining loci:\n",
      "['17767', '18723', '2606', '3405', '3699']\n"
     ]
    }
   ],
   "source": [
    "## parse out outflank outlier locus IDs\n",
    "outflank = open(\"batch8_verif/allKOR_b8_verif_outflank_outliers.csv\", \"r\")\n",
    "outflank.readline()\n",
    "\n",
    "outflank_loci = []\n",
    "\n",
    "for line in outflank:\n",
    "    outflank_loci.append(line.strip().split(\",\")[0])\n",
    "outflank.close()\n",
    "\n",
    "## parse out bayescan outlier locus IDs\n",
    "bay = open(\"batch8_verif/batch_8_verif_BAYESCAN_p1000_fdr05_outliers.csv\", \"r\")\n",
    "bay.readline()\n",
    "\n",
    "bayescan_loci = []\n",
    "for line in bay:\n",
    "    bayescan_loci.append(line.strip().split(\",\")[0])\n",
    "bay.close()\n",
    "\n",
    "## Identify matching loci\n",
    "matched = [i for i in outflank_loci if i in bayescan_loci]\n",
    "print len(matched), \" loci identified in Outflank also identified in Bayescan:\"\n",
    "print matched\n",
    "print \"--\"\n",
    "print \"Remaining loci:\"\n",
    "print [i for i in outflank_loci if i not in bayescan_loci]"
   ]
  },
  {
   "cell_type": "code",
   "execution_count": null,
   "metadata": {
    "collapsed": true
   },
   "outputs": [],
   "source": []
  }
 ],
 "metadata": {
  "anaconda-cloud": {},
  "kernelspec": {
   "display_name": "Python 2",
   "language": "python",
   "name": "python2"
  },
  "language_info": {
   "codemirror_mode": {
    "name": "ipython",
    "version": 2
   },
   "file_extension": ".py",
   "mimetype": "text/x-python",
   "name": "python",
   "nbconvert_exporter": "python",
   "pygments_lexer": "ipython2",
   "version": "2.7.13"
  }
 },
 "nbformat": 4,
 "nbformat_minor": 1
}