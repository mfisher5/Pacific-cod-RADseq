{
 "cells": [
  {
   "cell_type": "markdown",
   "metadata": {},
   "source": [
    "## Alignment of batch 8 outliers to ACod\n",
    "\n",
    "\n",
    "#### batch 8 verif\n",
    "\n",
    "\n",
    "<br>\n",
    "\n",
    "In this notebook, I align outlier loci to the Atlantic cod genome and then explore annotations. I will be aligning *all* outlier loci that were identified in either OutFlank or Bayescan (with priors of 100,1000, and 10K).\n",
    "<br>\n",
    "\n",
    "This includes the following steps:\n",
    "1. Create bowtie reference database of gadMor2\n",
    "2. Create fasta file of outlier loci (using consensus sequences from stacks)\n",
    "3. Align fasta to the genome with bowtie2\n",
    "4. Filter alignment by mapping quality (cutoff MQ > 10)\n",
    "5. Use `closestBed` to find the closest annotated feature in Atlantic cod to each aligned locus.\n",
    "\n",
    "\n",
    "\n",
    "\n",
    "\n",
    "<br>\n",
    "\n",
    "Programs used: `bowtie2`, `samtools`, `bedtools`\n",
    "<br>\n",
    "(see notes on installation of each of these programs [here](https://github.com/mfisher5/PCod-Korea-repo/blob/master/notebooks/Batch%208%20-%20Outlier%20Alignment.ipynb))\n",
    "\n",
    "\n",
    "<br>\n",
    "** I started with 57 outlier loci. 43 of these aligned uniquely with a mapping quality > 10.**\n",
    "\n",
    "\n",
    "<br>\n",
    "<br>\n",
    "#### 3/15/2018"
   ]
  },
  {
   "cell_type": "markdown",
   "metadata": {},
   "source": [
    "<br>\n",
    "### 1. Create reference database of (new) Atlantic cod genome\n",
    "\n",
    "Completed previously.See notebook [Alignment of batch 8 outliers to ACod, eastern PCod](https://github.com/mfisher5/PCod-Korea-repo/blob/master/notebooks/Batch%208%20-%20Outlier%20Alignment.ipynb)\n",
    "<br>\n",
    "The [gadMor2](https://osf.io/4qsdw/) was published by [Torresen et al. 2017 in BMC Genomics](https://bmcgenomics.biomedcentral.com/articles/10.1186/s12864-016-3448-x) (open access)."
   ]
  },
  {
   "cell_type": "markdown",
   "metadata": {},
   "source": [
    "<br>\n",
    "\n",
    "### 2. Create fasta file of outlier loci consensus sequences\n",
    "\n",
    "I can do this by going into the `batch_8.catalog.tags.tsv` file and extracting the consensus sequence associated with each outlier locus ID. "
   ]
  },
  {
   "cell_type": "code",
   "execution_count": 1,
   "metadata": {},
   "outputs": [
    {
     "name": "stdout",
     "output_type": "stream",
     "text": [
      "/mnt/hgfs/PCod-Korea-repo\n"
     ]
    }
   ],
   "source": [
    "cd ../"
   ]
  },
  {
   "cell_type": "markdown",
   "metadata": {},
   "source": [
    "First, read in a list of outlier loci (one locus per line, text file)."
   ]
  },
  {
   "cell_type": "code",
   "execution_count": 3,
   "metadata": {
    "collapsed": true
   },
   "outputs": [],
   "source": [
    "###################### objects ###############################\n",
    "myfile = \"analyses/Outliers/batch8_verif/batch_8_outliers_to_align.txt\" # list of outlier loci\n",
    "###############################################################\n",
    "\n",
    "\n",
    "# read in outlier loci IDs\n",
    "infile = open(myfile, \"r\")\n",
    "\n",
    "outlier_list = []\n",
    "for line in infile:\n",
    "    outlier_list.append(line.strip())\n",
    "infile.close()"
   ]
  },
  {
   "cell_type": "markdown",
   "metadata": {},
   "source": [
    "Then match those loci to sequences in the stacks catalog.tags.tsv file"
   ]
  },
  {
   "cell_type": "code",
   "execution_count": 4,
   "metadata": {},
   "outputs": [
    {
     "name": "stdout",
     "output_type": "stream",
     "text": [
      "Succesfully added sequences for  57  outlier loci.\n"
     ]
    }
   ],
   "source": [
    "###################### objects ###############################\n",
    "catalog = \"stacks_b8_verif/batch_7.catalog.tags.tsv\"\n",
    "newfile = \"analyses/Outliers/batch8_verif/batch_8_verif_outliers.fa\" # parsed output from this script\n",
    "###############################################################\n",
    "\n",
    "\n",
    "# write out the locus IDs and the consensus sequences to a new fasta file\n",
    "seqfile = open(catalog, \"r\")\n",
    "outfile = open(newfile, \"w\")\n",
    "seqs_added = 0\n",
    "seqfile.readline()\n",
    "for line in seqfile:\n",
    "    linelist = line.strip().split(\"\\t\")\n",
    "    if linelist[2] in outlier_list:\n",
    "        outfile.write(\">\" + linelist[2] + \"\\n\" + linelist[9] + \"\\n\")\n",
    "        seqs_added += 1\n",
    "seqfile.close()\n",
    "outfile.close()\n",
    "print \"Succesfully added sequences for \", seqs_added, \" outlier loci.\""
   ]
  },
  {
   "cell_type": "code",
   "execution_count": 5,
   "metadata": {},
   "outputs": [
    {
     "name": "stdout",
     "output_type": "stream",
     "text": [
      ">74\r\n",
      "TGCAGGAGCAGGAGAGGATCATCACCATGTCGTATGCACTGGCTTCCGAGGCGTCGCTTAAGAGCAAACAGGTCACAGGTACGTCCGCTCGTCTGTTCAACCATCTGCTCCAGCTCACTTCTCAAAGACTCCTTCTCTTTAG\r\n",
      ">453\r\n",
      "TGCAGGTGCACCTCCGACCCCTTCTCATAGGCCTCCCAGGCGAACACTGGAACACAGCGCACGGCCGGGCCGTTAACCAGGGGCACCACGCACACACTGCAGGGCTGGGGTTAACTAGCTACTACTGGTTAGAGACTTAGGT\r\n",
      ">1904\r\n",
      "TGCAGGAAAATATAAATACAGTACGCAAAAAATTACTTCGACGGAAAGTCCTCAGATTGTGCTTCAGCTTCAGATGCCATCAAGAGGGGTCTCTGGTCGTAATCAGTCGCAAGTTCGTCCCTGACCAATCAGCATTCATTAG\r\n",
      ">2098\r\n",
      "TGCAGGATGTCAGCTTGCTGATGTAAAAACCCATGTGGTGTTCCCATTTCAGAGACCTGTTGGTGAACTCTCTCTTGTAAATTCAACAGCCAGAAGATGCAATCGATGCTTGTGTGACATAGAAAATAGTCTTGACATACTG\r\n",
      ">2606\r\n",
      "TGCAGGATCAACCTCTCAGGAGCCAAACCAACAGCCGTCCCGAGACATCGGGCGGGTGGTGCACCATCCCGTGGGCCTGTGGAAGTGCATCCGGCCTGAACGGTACCGGCCATGGCGCAGACCGCGAGAGCGCGGCCAGCTC\r\n"
     ]
    }
   ],
   "source": [
    "!head analyses/Outliers/batch8_verif/batch_8_verif_outliers.fa"
   ]
  },
  {
   "cell_type": "markdown",
   "metadata": {},
   "source": [
    "<br>\n",
    "<br>\n",
    "### 3. Align fasta to Atlantic cod genome reference"
   ]
  },
  {
   "cell_type": "code",
   "execution_count": 6,
   "metadata": {},
   "outputs": [
    {
     "name": "stdout",
     "output_type": "stream",
     "text": [
      "57 reads; of these:\r\n",
      "  57 (100.00%) were unpaired; of these:\r\n",
      "    4 (7.02%) aligned 0 times\r\n",
      "    49 (85.96%) aligned exactly 1 time\r\n",
      "    4 (7.02%) aligned >1 times\r\n",
      "92.98% overall alignment rate\r\n"
     ]
    }
   ],
   "source": [
    "!bowtie2 -f \\\n",
    "-x ../PCod-Compare-repo/ACod_reference/Gadus_morhua2 \\\n",
    "-U analyses/Outliers/batch8_verif/batch_8_verif_outliers.fa \\\n",
    "-S analyses/Outliers/batch8_verif/batch_8_outliers_bowtie2_Acod.sam"
   ]
  },
  {
   "cell_type": "markdown",
   "metadata": {},
   "source": [
    "<br>\n",
    "### 4. Filter bowtie2 matches by mapping quality\n",
    "\n",
    "I use a mapping quality cutoff of 10.\n"
   ]
  },
  {
   "cell_type": "code",
   "execution_count": 7,
   "metadata": {},
   "outputs": [
    {
     "name": "stdout",
     "output_type": "stream",
     "text": [
      "/mnt/hgfs/PCod-Korea-repo/analyses/Outliers/batch8_verif\n"
     ]
    }
   ],
   "source": [
    "cd analyses/Outliers/batch8_verif"
   ]
  },
  {
   "cell_type": "markdown",
   "metadata": {},
   "source": [
    "Save filtered output as a `.bam` file (needed for next step)"
   ]
  },
  {
   "cell_type": "code",
   "execution_count": 8,
   "metadata": {
    "collapsed": true
   },
   "outputs": [],
   "source": [
    "!samtools view -bSq 10 batch_8_outliers_bowtie2_Acod.sam > batch_8_outliers_bowtie2_Acod_filteredMQ.bam"
   ]
  },
  {
   "cell_type": "markdown",
   "metadata": {},
   "source": [
    "You can also save filtered output as a `.sam` file"
   ]
  },
  {
   "cell_type": "code",
   "execution_count": 9,
   "metadata": {
    "collapsed": true
   },
   "outputs": [],
   "source": [
    "!samtools view -Sq 10 batch_8_outliers_bowtie2_Acod.sam > batch_8_outliers_bowtie2_Acod_filteredMQ.sam"
   ]
  },
  {
   "cell_type": "markdown",
   "metadata": {},
   "source": [
    "** how many outlier loci per linkage group?**"
   ]
  },
  {
   "cell_type": "code",
   "execution_count": 18,
   "metadata": {
    "collapsed": true
   },
   "outputs": [],
   "source": [
    "###################### objects ###############################\n",
    "myfile = \"batch_8_outliers_bowtie2_Acod_filteredMQ.sam\"\n",
    "###############################################################\n",
    "\n",
    "samfile = open(myfile, \"r\")\n",
    "lg_dict = {}\n",
    "for line in samfile:\n",
    "    lg = line.strip().split()[2]\n",
    "    locus = line.strip().split()[0]\n",
    "    if lg not in lg_dict.keys():\n",
    "        lg_dict[lg] = 1\n",
    "    else:\n",
    "        count = lg_dict[lg]\n",
    "        count += 1\n",
    "        lg_dict[lg] = count\n",
    "samfile.close()"
   ]
  },
  {
   "cell_type": "code",
   "execution_count": 19,
   "metadata": {
    "scrolled": true
   },
   "outputs": [
    {
     "data": {
      "image/png": "[encoded data removed]",
      "text/plain": [
       "<matplotlib.figure.Figure at 0x7f6c67fb7490>"
      ]
     },
     "metadata": {},
     "output_type": "display_data"
    }
   ],
   "source": [
    "countlist = []\n",
    "for lg in lg_dict.keys():\n",
    "    countlist.append(int(lg_dict[lg]))\n",
    "import matplotlib.pyplot as plt\n",
    "import numpy as np\n",
    "plt.hist(countlist)\n",
    "plt.suptitle(\"Number of Loci Aligned per Linkage Group\")\n",
    "plt.xlabel(\"# Loci Aligned\")\n",
    "plt.ylabel(\"# Linkage Groups\")\n",
    "plt.show()"
   ]
  },
  {
   "cell_type": "code",
   "execution_count": 20,
   "metadata": {
    "collapsed": true
   },
   "outputs": [],
   "source": [
    "plt.close()"
   ]
  },
  {
   "cell_type": "markdown",
   "metadata": {},
   "source": [
    "** Linkage Group 16 has eight outlier loci **"
   ]
  },
  {
   "cell_type": "code",
   "execution_count": 21,
   "metadata": {},
   "outputs": [
    {
     "data": {
      "text/plain": [
       "8"
      ]
     },
     "execution_count": 21,
     "metadata": {},
     "output_type": "execute_result"
    }
   ],
   "source": [
    "lg_dict[\"LG16\"]"
   ]
  },
  {
   "cell_type": "markdown",
   "metadata": {},
   "source": [
    "\n",
    "<br>\n",
    "### 5. Annotation\n",
    "\n",
    "<br>\n",
    "These notes were taken from Charlie Waters. \n",
    "\n",
    "**STEP ONE: BAM to sortedBAM to BED**"
   ]
  },
  {
   "cell_type": "code",
   "execution_count": 10,
   "metadata": {
    "collapsed": true
   },
   "outputs": [],
   "source": [
    "!samtools sort batch_8_outliers_bowtie2_Acod_filteredMQ.bam \\\n",
    "-o batch_8_outliers_bowtie2_Acod_filteredMQ_sorted.bam"
   ]
  },
  {
   "cell_type": "code",
   "execution_count": 12,
   "metadata": {},
   "outputs": [
    {
     "name": "stdout",
     "output_type": "stream",
     "text": [
      "/mnt/hgfs/PCod-Korea-repo/analyses/Outliers/bedtools2/bin\n"
     ]
    }
   ],
   "source": [
    "cd ../bedtools2/bin/"
   ]
  },
  {
   "cell_type": "code",
   "execution_count": 13,
   "metadata": {
    "collapsed": true
   },
   "outputs": [],
   "source": [
    "!./bamToBed -i /mnt/hgfs/PCod-Korea-repo/analyses/Outliers/batch8_verif/batch_8_outliers_bowtie2_Acod_filteredMQ_sorted.bam \\\n",
    ">> /mnt/hgfs/PCod-Korea-repo/analyses/Outliers/batch8_verif/batch_8_outliers_bowtie2_Acod_filteredMQ_sorted.bed"
   ]
  },
  {
   "cell_type": "markdown",
   "metadata": {},
   "source": [
    "\n",
    "<br>\n",
    "#### STEP TWO: Sort the BED file"
   ]
  },
  {
   "cell_type": "code",
   "execution_count": 14,
   "metadata": {
    "collapsed": true
   },
   "outputs": [],
   "source": [
    "!./sortBed -i /mnt/hgfs/PCod-Korea-repo/analyses/Outliers/batch8_verif/batch_8_outliers_bowtie2_Acod_filteredMQ_sorted.bed \\\n",
    "> /mnt/hgfs/PCod-Korea-repo/analyses/Outliers/batch8_verif/batch_8_outliers_bowtie2_Acod_filteredMQ_sorted2.bed"
   ]
  },
  {
   "cell_type": "markdown",
   "metadata": {},
   "source": [
    "<br>\n",
    "#### STEP THREE: Download and sort annotation file\n",
    "\n",
    "First, I downloaded the file [gadMor2_annotation_complete.gff](https://osf.io/g9w7s/).\n",
    "\n",
    "The file is too big to manually sort, so I grabbed only the rows that have \"gene\" in them. "
   ]
  },
  {
   "cell_type": "code",
   "execution_count": null,
   "metadata": {
    "collapsed": true
   },
   "outputs": [],
   "source": [
    "!grep 'gene' /mnt/hgfs/PCod-Compare-repo/ACod_reference/gadMor2_annotation_complete.gff > \\\n",
    "/mnt/hgfs/PCod-Compare-repo/ACod_reference/gadMor2_annotation_complete_genes.gff"
   ]
  },
  {
   "cell_type": "markdown",
   "metadata": {},
   "source": [
    "Then I opened the file in excel and sorted first by chromosome (scaffold), and then by start position. New file: \n",
    "`gadMor2_annotation_complete_genes_manualsort.gff`"
   ]
  },
  {
   "cell_type": "markdown",
   "metadata": {},
   "source": [
    "<br>\n",
    "#### STEP FOUR: run closestBed\n",
    "\n",
    "DON'T USE BEDTOOLS V2.25 to run the closestBED command.\n",
    "\n",
    "This must be done from within the `bedtools2/bin` folder. \n",
    "\n",
    "\n",
    "`closest -a file.bed -b .gff -g table.tab -D b > outfile.bed`\n",
    "\n",
    "\n",
    "Argument `-D a`: reports the closest featured in `-b` (ACod) WITH its distance from `-a` as an extra column. Will use negative distances to report upstream features. Reports in respect to `-a`, so \"upstream\" means that the ACod gene has a higher (start,stop) than the PCod sequence. \n",
    "\n",
    "Argument `-k`: report the \"k\" closest hits. Default is 1"
   ]
  },
  {
   "cell_type": "code",
   "execution_count": 24,
   "metadata": {
    "collapsed": true
   },
   "outputs": [],
   "source": [
    "!./closestBed -a ../../batch8_verif/batch_8_outliers_bowtie2_Acod_filteredMQ_sorted2.bed \\\n",
    "-b /mnt/hgfs/PCod-Compare-repo/ACod_reference/gadMor2_annotation_complete_genes_manualsort.gff \\\n",
    "-D a \\\n",
    "-k 2 \\\n",
    "-header \\\n",
    "> ../../batch8_verif/batch_8_outliers_bowtie2_Acod_MQfiltered_Annotations.bed"
   ]
  },
  {
   "cell_type": "markdown",
   "metadata": {},
   "source": [
    "#### For formatted version, see Results/batch_8_southeast_BAYESCAN_outliers_annotated.xlsx\n",
    "<br>\n",
    "<br>\n",
    "<br>\n",
    "\n",
    "\n",
    "#### Step 6: Extract gene sequences from annotations.bed file to BLAST \n",
    "\n",
    "So when I looked at my annotations.bed file, I noticed that some of the gene IDs are difficult to interpret. For example, this gene ID clearly states a gene function: \n",
    "\n",
    "`ID=GAMO_00032736;Name=GAMO_00032736;Alias=augustus_masked-LG08-processed-gene-181.8;Note=Similar to sirt5: NAD-dependent protein deacylase sirtuin-5%2C mitochondrial (Xenopus tropicalis);Dbxref=Gene3D:G3DSA:3.30.1600.10,Gene3D:G3DSA:3.40.50.1220,Hamap:MF_01121,InterPro:IPR003000,InterPro:IPR026590,InterPro:IPR026591,InterPro:IPR027546,InterPro:IPR029035,PANTHER:PTHR11085,PANTHER:PTHR11085:SF13,Pfam:PF02146,ProSiteProfiles:PS50305,SUPERFAMILY:SSF52467;Ontology_term=GO:0036054,GO:0036055,GO:0070403;`\n",
    "\n",
    "\n",
    "However, this one does not: \n",
    "\n",
    "`ID=LG08:hit:131211:4.5.0.181;Name=augustus_masked-LG08-abinit-gene-181.8-mRNA-1;_AED=0.41;_eAED=0.41;_QI=0|0.83|0.71|0.85|1|1|7|0|278`\n",
    "<br>\n",
    "<br>\n",
    "\n",
    "So for each of the outliers that is near a gene that is not obviously identified, I'm going to use `samtools` to extract the full sequence of that gene from the genome fasta file, and then BLAST it online. \n",
    "\n",
    "This might be a huge pain, so I'm going to prioritize outliers that also came up in the south v. east comparison. \n",
    "\n",
    "The code to do so is: \n",
    "\n",
    "`!samtools faidx genome.fa geneA:x-y # returns sequence from positions x through y from geneA`\n"
   ]
  },
  {
   "cell_type": "code",
   "execution_count": null,
   "metadata": {
    "collapsed": true
   },
   "outputs": [],
   "source": []
  },
  {
   "cell_type": "code",
   "execution_count": null,
   "metadata": {
    "collapsed": true
   },
   "outputs": [],
   "source": []
  },
  {
   "cell_type": "code",
   "execution_count": null,
   "metadata": {
    "collapsed": true
   },
   "outputs": [],
   "source": []
  }
 ],
 "metadata": {
  "kernelspec": {
   "display_name": "Python 2",
   "language": "python",
   "name": "python2"
  },
  "language_info": {
   "codemirror_mode": {
    "name": "ipython",
    "version": 2
   },
   "file_extension": ".py",
   "mimetype": "text/x-python",
   "name": "python",
   "nbconvert_exporter": "python",
   "pygments_lexer": "ipython2",
   "version": "2.7.13"
  }
 },
 "nbformat": 4,
 "nbformat_minor": 2
}