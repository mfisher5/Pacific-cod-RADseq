{
 "cells": [
  {
   "cell_type": "markdown",
   "metadata": {},
   "source": [
    "## Observed heterozygosity / ML Relate (verified)\n",
    "\n",
    "#### Batch 8\n",
    "\n",
    "The purpose of this notebook is to combine observed heterozygosity and ML Relate to identify potentially contaminated individuals that I should leave out of the analysis. \n",
    "\n",
    "ML Relate does this really interesting thing where it only allows you to include 1-2 populations in your genepop file. I found some helpful documentation on that: \"Input files can have either one or two POP's (to use the GENEPOP term) in them. If the file has one POP, ML-Relate will estimate allele frequencies in the population from the individuals whose relatedness is being estimated. If the file has two POP's the first POP will be used to estimate allele frequencies and the second POP should contain the individuals to analzye. See the user's manual for more details. \"\n",
    "\n",
    "I'll first run a genepop file with all samples as a single population, to identify samples contaminated between populations. I'll then run genepop files for each population through. \n",
    "\n",
    "If ML Relate does not identify all replicates as full siblings, I'll assume that it is not identifying relatedness correctly for that population, and disregard the results. \n",
    "\n",
    "<br>\n",
    "Summary of this notebook: \n",
    "1. Plot observed heterozygosity against read depth and missing data\n",
    "2. Identify individuals with high heterozygosity\n",
    "3. Run ML Relate on population as a whole, parse results & identify full / half siblings between populations\n",
    "4. Run ML Relate on each region (East / South / West), parse results & identify full / half siblings between populations.\n",
    "5. For each group of samples that were identified as full / half sibs, I did the following: \n",
    "        a. Count the number of replicates correctly identified as full-sibs and remove them from sibling list\n",
    "        b. Identify samples that are being removed because of high heterozygosity, and remove any pairs involving those samples from the sibling list\n",
    "        c. Remove any full sibling pairs from analysis\n",
    "        d. For each of the remaining half-sibling pairs, gather the following information for each sample: Heterozygosity, % genotypes missing, location on extraction plate, location on RAD plate. \n",
    "        e. If the samples were next to each other on the RAD or extraction plate, remove those samples from analysis.\n",
    "        f. If the samples were not next to each other on the RAD or extraction plate, but one or both samples had slightly elevated heterozygosity (> 0.20) or a relatively high percentage of genotypes missing (>0.10), write each sample name down to keep an eye on through the rest of the analysis. \n",
    "        g. Any sibling pairs left were assumed to be a false positive, or a result of lower variation within sampling sites than between sampling sites in the same region. \n",
    "        \n",
    "*Samples that were flagged for high heterozygosity close to the cutoff of 0.25 that did NOT show up in the region-based ML relate runs, were retained for analysis*\n",
    "\n",
    "\n",
    "<br>\n",
    "<br>\n",
    "<br>\n",
    "\n",
    "\n",
    "\n",
    "#### 3/7/2018"
   ]
  },
  {
   "cell_type": "code",
   "execution_count": 7,
   "metadata": {},
   "outputs": [
    {
     "name": "stdout",
     "output_type": "stream",
     "text": [
      "/mnt/hgfs/PCod-Korea-repo/analyses\n"
     ]
    }
   ],
   "source": [
    "cd ../analyses"
   ]
  },
  {
   "cell_type": "code",
   "execution_count": 8,
   "metadata": {},
   "outputs": [
    {
     "name": "stdout",
     "output_type": "stream",
     "text": [
      "usage: calc_het.py [-h] [-l LIST] [-i IND] [-f FILE] [-o OUTPUT]\r\n",
      "                   [-d DENOMINATOR]\r\n",
      "\r\n",
      "optional arguments:\r\n",
      "  -h, --help            show this help message and exit\r\n",
      "  -l LIST, --list LIST  Population map, or any white space delimited list of\r\n",
      "                        individuals with sample name in first column\r\n",
      "  -i IND, --ind IND     name of individual to investigate (mutually exclusive\r\n",
      "                        to '-l' and requires '-f') - UNTESTED\r\n",
      "  -f FILE, --file FILE  location of file with genotypes (assumes genepop\r\n",
      "                        format)\r\n",
      "  -o OUTPUT, --output OUTPUT\r\n",
      "                        name of output file\r\n",
      "  -d DENOMINATOR, --denominator DENOMINATOR\r\n",
      "                        use 2 if counting a FASTA file or 4 if counting a\r\n",
      "                        FASTQ file\r\n"
     ]
    }
   ],
   "source": [
    "!python calc_het.py -h"
   ]
  },
  {
   "cell_type": "code",
   "execution_count": 13,
   "metadata": {
    "collapsed": true
   },
   "outputs": [],
   "source": [
    "!python calc_het.py \\\n",
    "-l ../scripts/PopMap_L1-5_mdFilter_b8_verif.txt \\\n",
    "-f ../stacks_b8_verif/batch_8_filteredMAF_filteredIndivids30_filteredLoci_filteredHWE_genepop.txt \\\n",
    "-o Het_Depth_MissingData_b8_verif.txt \\\n",
    "-d 4"
   ]
  },
  {
   "cell_type": "code",
   "execution_count": 14,
   "metadata": {},
   "outputs": [
    {
     "name": "stdout",
     "output_type": "stream",
     "text": [
      "usage: calc_missing_genotypes.py [-h] [-l LIST] [-i IND] [-f FILE] [-o OUTPUT]\r\n",
      "                                 [-d DENOMINATOR]\r\n",
      "\r\n",
      "optional arguments:\r\n",
      "  -h, --help            show this help message and exit\r\n",
      "  -l LIST, --list LIST  Population map, or any white space delimited list of\r\n",
      "                        individuals with sample name in first column\r\n",
      "  -i IND, --ind IND     name of individual to investigate (mutually exclusive\r\n",
      "                        to '-l' and requires '-f') - UNTESTED\r\n",
      "  -f FILE, --file FILE  location of file with genotypes (assumes genepop\r\n",
      "                        format)\r\n",
      "  -o OUTPUT, --output OUTPUT\r\n",
      "                        name of output file\r\n",
      "  -d DENOMINATOR, --denominator DENOMINATOR\r\n",
      "                        use 2 if counting a FASTA file or 4 if counting a\r\n",
      "                        FASTQ file\r\n"
     ]
    }
   ],
   "source": [
    "!python calc_missing_genotypes.py -h"
   ]
  },
  {
   "cell_type": "code",
   "execution_count": 15,
   "metadata": {
    "collapsed": true
   },
   "outputs": [],
   "source": [
    "!python calc_missing_genotypes.py \\\n",
    "-l ../scripts/PopMap_L1-5_mdFilter_b8_verif.txt \\\n",
    "-f ../stacks_b8_verif/batch_8_filteredMAF_filteredIndivids30_filteredLoci_filteredHWE_genepop.txt \\\n",
    "-o MissingData_b8_verif.txt \\\n",
    "-d 4"
   ]
  },
  {
   "cell_type": "markdown",
   "metadata": {},
   "source": [
    "*I already had read depths, so I manually combined the above into a single file. *"
   ]
  },
  {
   "cell_type": "code",
   "execution_count": 16,
   "metadata": {
    "collapsed": true
   },
   "outputs": [],
   "source": [
    "## open file and save each number into appropriate list ##\n",
    "infile = open(\"Het_Depth_MissingData_b8_verif.txt\", \"r\")\n",
    "het_dict = {}\n",
    "het = []\n",
    "reads = []\n",
    "missing = []\n",
    "infile.readline()\n",
    "for line in infile:\n",
    "    linelist = line.strip().split()\n",
    "    het_dict[linelist[0]] = float(linelist[1])\n",
    "    het.append(float(linelist[1]))\n",
    "    reads.append(float(linelist[2]))\n",
    "    missing.append(float(linelist[3]))\n",
    "infile.close()"
   ]
  },
  {
   "cell_type": "code",
   "execution_count": 17,
   "metadata": {},
   "outputs": [
    {
     "data": {
      "image/png": "[encoded data removed]",
      "text/plain": [
       "<matplotlib.figure.Figure at 0x7f4e4c40f850>"
      ]
     },
     "metadata": {},
     "output_type": "display_data"
    }
   ],
   "source": [
    "import numpy as np \n",
    "import matplotlib.pyplot as plt\n",
    "plt.scatter(reads, het, color = \"darkcyan\")\n",
    "plt.suptitle(\"Fastq Read Count v. Observed Heterozygosity\")\n",
    "plt.xlabel(\"# Reads in FastQ file\")\n",
    "plt.ylabel(\"Observed Heterozygosity\")\n",
    "plt.show()"
   ]
  },
  {
   "cell_type": "code",
   "execution_count": 18,
   "metadata": {
    "collapsed": true
   },
   "outputs": [],
   "source": [
    "plt.close()"
   ]
  },
  {
   "cell_type": "code",
   "execution_count": 19,
   "metadata": {},
   "outputs": [
    {
     "data": {
      "image/png": "[encoded data removed]",
      "text/plain": [
       "<matplotlib.figure.Figure at 0x7f4e302d2390>"
      ]
     },
     "metadata": {},
     "output_type": "display_data"
    }
   ],
   "source": [
    "import numpy as np \n",
    "import matplotlib.pyplot as plt\n",
    "plt.scatter(missing, het, color = \"darkcyan\")\n",
    "plt.suptitle(\"Proportion Missing Genotypes v. Observed Heterozygosity\")\n",
    "plt.xlabel(\"# Loci Missing Genotypes / Total # Loci\")\n",
    "plt.ylabel(\"Observed Heterozygosity\")\n",
    "plt.show()"
   ]
  },
  {
   "cell_type": "code",
   "execution_count": 20,
   "metadata": {
    "collapsed": true
   },
   "outputs": [],
   "source": [
    "plt.close()"
   ]
  },
  {
   "cell_type": "code",
   "execution_count": 21,
   "metadata": {
    "collapsed": true
   },
   "outputs": [],
   "source": [
    "outfile = open(\"batch_8_HighLowHet_verif.txt\", \"w\")\n",
    "outfile.write(\"# Individuals with very high (possible contam) or very low (possible missing data) heterozygosity\\n\")\n",
    "\n",
    "low_het_individs = {}\n",
    "high_het_individs = {}\n",
    "\n",
    "for sample in het_dict.keys():\n",
    "    if float(het_dict[sample]) > 0.25:\n",
    "        high_het_individs[sample] = het_dict[sample]\n",
    "    elif float(het_dict[sample]) < 0.13:\n",
    "        low_het_individs[sample] = het_dict[sample]\n",
    "\n",
    "outfile.write(\"\\n# High Heterozygosity\\n\")\n",
    "for i in high_het_individs.keys():\n",
    "    outfile.write(i + \"\\t\" + str(high_het_individs[i]) + \"\\n\")\n",
    "    \n",
    "outfile.write(\"\\n# Low Heterozygosity\\n\")\n",
    "for i in low_het_individs.keys():\n",
    "    outfile.write(i + \"\\t\" + str(low_het_individs[i]) + \"\\n\")\n",
    "outfile.close()"
   ]
  },
  {
   "cell_type": "markdown",
   "metadata": {},
   "source": [
    "<br>\n",
    "Individuals with heterozygosity near the cutoff that did NOT appear in ML relate (and so were retained):\n",
    "\n",
    "PO031715_13.1"
   ]
  },
  {
   "cell_type": "markdown",
   "metadata": {},
   "source": [
    "<br>\n",
    "<br>\n",
    "### ML Relate - One Pop\n",
    "\n",
    "#### FILE: batch_8_filteredMAF_filteredIndivids30_filteredLoci_filteredHWE_onepop.txt\n",
    "\n",
    "Calculate relatedness using `Relationship` >> `Relatedness` >> `List Output`"
   ]
  },
  {
   "cell_type": "code",
   "execution_count": 22,
   "metadata": {},
   "outputs": [
    {
     "data": {
      "text/plain": [
       "u'/mnt/hgfs/PCod-Korea-repo/analyses'"
      ]
     },
     "execution_count": 22,
     "metadata": {},
     "output_type": "execute_result"
    }
   ],
   "source": [
    "pwd"
   ]
  },
  {
   "cell_type": "code",
   "execution_count": 23,
   "metadata": {},
   "outputs": [
    {
     "name": "stdout",
     "output_type": "stream",
     "text": [
      "/mnt/hgfs/PCod-Korea-repo/analyses/ml_relate/batch_8_verif\n"
     ]
    }
   ],
   "source": [
    "cd ml_relate/batch_8_verif/"
   ]
  },
  {
   "cell_type": "code",
   "execution_count": 24,
   "metadata": {},
   "outputs": [
    {
     "name": "stdout",
     "output_type": "stream",
     "text": [
      "130  detected related pairs:  81  half sib pairs &  49  full sib pairs.\n",
      "44123  unrelated pairs\n"
     ]
    }
   ],
   "source": [
    "infile = open(\"MLrelate_b8_all.txt\", \"r\")\n",
    "outfile = open(\"MLrelate_b8_all_relatedIndivids.txt\", \"w\")\n",
    "\n",
    "outfile.write(\"relatedness\\tsample1\\tsample2\\n\")\n",
    "\n",
    "for line in infile:\n",
    "    if line.startswith(\"Ind1\"):\n",
    "        break\n",
    "\n",
    "r_count = 0\n",
    "u_count = 0\n",
    "\n",
    "halfsibs = \"\"\n",
    "hs_count = 0\n",
    "fullsibs = \"\"\n",
    "fs_count = 0\n",
    "for line in infile:\n",
    "    linelist = line.strip().split()\n",
    "    if len(linelist) > 2:\n",
    "        relate = linelist[2]\n",
    "        if relate == \"HS\":\n",
    "            halfsibs += relate + \"\\t\" + linelist[0] + \"\\t\" + linelist[1] + \"\\n\"\n",
    "            r_count += 1\n",
    "            hs_count += 1\n",
    "        elif relate == \"FS\":\n",
    "            fullsibs += relate + \"\\t\" + linelist[0] + \"\\t\" + linelist[1] + \"\\n\"\n",
    "            r_count += 1\n",
    "            fs_count += 1\n",
    "        else:\n",
    "            u_count += 1\n",
    "infile.close()\n",
    "\n",
    "outfile.write(fullsibs)\n",
    "outfile.write(halfsibs)\n",
    "outfile.close()\n",
    "\n",
    "print r_count, \" detected related pairs: \", hs_count, \" half sib pairs & \", fs_count, \" full sib pairs.\"\n",
    "print u_count, \" unrelated pairs\""
   ]
  },
  {
   "cell_type": "markdown",
   "metadata": {},
   "source": [
    "**By looking at the pairs in excel, I found that:**\n",
    "\n",
    "(1) ML Relate caught 42/45 replicates. this is a good sign for it's reliability on this run!\n",
    "\n",
    "(2) The following samples were identified as related across different *regions* +:\n",
    "\n",
    "* HS:\tYS_121316_21 |||\tPO010715_26 << second sample removed b/c of high heterozygosity\n",
    "* HS:\tJB121807_21.1 |||\tJUK07_31 << both heterozygosities normal; not close on plates. will retain both.\n",
    "\n",
    "`JB121807_21.1`\n",
    "<br>\n",
    "Ho = 0.170208799\n",
    "<br>\n",
    "Prop. Missing Genotypes = 0.050827016\n",
    "<br>\n",
    "E plate = 3; A5\n",
    "<br>\n",
    "RAD plate = 17,18,20-22 (Sublib 21); Lane 4\n",
    "<br>\n",
    "<br>\n",
    "`JUK07_31`\n",
    "<br>\n",
    "Ho = 0.181455114\n",
    "<br>\n",
    "Prop. Missing Genotypes = 0.007753274\n",
    "<br>\n",
    "E plate = 1/12/16; C12\n",
    "<br>\n",
    "RAD plate = 16,24-26; Lane 5\n",
    "<br>\n",
    "<br>\n",
    "<br>\n",
    "\n",
    "+preliminary analyses show little differentiation detectable within regions, so I will wait to assess those sibling pairs until I have a separate genepop file for each; higher likelihood here that non-related individuals within regions will be identified as related "
   ]
  },
  {
   "cell_type": "markdown",
   "metadata": {},
   "source": [
    "<br>\n",
    "### ML Relate, by region"
   ]
  },
  {
   "cell_type": "code",
   "execution_count": 25,
   "metadata": {},
   "outputs": [
    {
     "data": {
      "text/plain": [
       "u'/mnt/hgfs/PCod-Korea-repo/analyses/ml_relate/batch_8_verif'"
      ]
     },
     "execution_count": 25,
     "metadata": {},
     "output_type": "execute_result"
    }
   ],
   "source": [
    "pwd"
   ]
  },
  {
   "cell_type": "code",
   "execution_count": 27,
   "metadata": {},
   "outputs": [
    {
     "name": "stdout",
     "output_type": "stream",
     "text": [
      "/mnt/hgfs/PCod-Korea-repo\n"
     ]
    }
   ],
   "source": [
    "cd ../../../"
   ]
  },
  {
   "cell_type": "code",
   "execution_count": 3,
   "metadata": {
    "collapsed": true
   },
   "outputs": [],
   "source": [
    "# open original genepop, create new genepops\n",
    "infile = open(\"stacks_b8_wgenome/batch_8_filteredMAF_filteredIndivids30_filteredLoci_filteredHWE.gen\", \"r\")\n",
    "southfile = open(\"analyses/ml_relate/batch_8/batch_8.filteredMAF_filteredIndivids30_filteredLoci_filteredHWE_south.txt\", \"w\")\n",
    "eastfile = open(\"analyses/ml_relate/batch_8/batch_8.filteredMAF_filteredIndivids30_filteredLoci_filteredHWE_east.txt\", \"w\")\n",
    "westfile = open(\"analyses/ml_relate/batch_8/batch_8.filteredMAF_filteredIndivids30_filteredLoci_filteredHWE_west.txt\", \"w\")\n",
    "\n",
    "\n",
    "pop_count = 0\n",
    "\n",
    "heading = \"#\"\n",
    "\n",
    "#save the title line of the genepop, all of the loci, and the first incidence of \"Pop\" to an object.\n",
    "#then write that as the heading for all new genepop files.\n",
    "for line in infile:\n",
    "    if not line.startswith(\"Pop\"):\n",
    "        heading += line\n",
    "    else:\n",
    "        heading += line\n",
    "        break\n",
    "\n",
    "southfile.write(heading)\n",
    "eastfile.write(heading)\n",
    "westfile.write(heading)\n",
    "        \n",
    "#separate individuals into the appropriate genepop file using the sample site abbrevs. in sample name\n",
    "for line in infile:\n",
    "    if line.startswith(\"PO\") or line.startswith(\"JB\") or line.startswith(\"NA\") or line.startswith(\"GE\"):\n",
    "        southfile.write(line)\n",
    "    elif line.startswith(\"YS\") or line.startswith(\"BOR\"):\n",
    "        westfile.write(line)\n",
    "    elif line.startswith(\"JUK\"):\n",
    "        eastfile.write(line)\n",
    "        \n",
    "        \n",
    "infile.close()\n",
    "southfile.close()\n",
    "westfile.close()\n",
    "eastfile.close()"
   ]
  },
  {
   "cell_type": "markdown",
   "metadata": {},
   "source": [
    "### --- South"
   ]
  },
  {
   "cell_type": "code",
   "execution_count": 28,
   "metadata": {
    "scrolled": true
   },
   "outputs": [
    {
     "name": "stdout",
     "output_type": "stream",
     "text": [
      "/mnt/hgfs/PCod-Korea-repo/analyses/ml_relate/batch_8_verif\n"
     ]
    }
   ],
   "source": [
    "cd analyses/ml_relate/batch_8_verif/"
   ]
  },
  {
   "cell_type": "code",
   "execution_count": 33,
   "metadata": {},
   "outputs": [
    {
     "name": "stdout",
     "output_type": "stream",
     "text": [
      "123  detected related pairs:  90  half sib pairs &  33  full sib pairs.\n",
      "14928  unrelated pairs\n"
     ]
    }
   ],
   "source": [
    "infile = open(\"MLrelate_b8_south.txt\", \"r\")\n",
    "outfile = open(\"MLrelate_b8_south_relatedIndivids.txt\", \"w\")\n",
    "\n",
    "outfile.write(\"relatedness\\tsample1\\tsample2\\n\")\n",
    "\n",
    "for line in infile:\n",
    "    if line.startswith(\"Ind1\"):\n",
    "        break\n",
    "\n",
    "r_count = 0\n",
    "u_count = 0\n",
    "\n",
    "halfsibs = \"\"\n",
    "hs_count = 0\n",
    "fullsibs = \"\"\n",
    "fs_count = 0\n",
    "for line in infile:\n",
    "    linelist = line.strip().split()\n",
    "    if len(linelist) > 2:\n",
    "        relate = linelist[2]\n",
    "        if relate == \"HS\":\n",
    "            halfsibs += relate + \"\\t\" + linelist[0] + \"\\t\" + linelist[1] + \"\\n\"\n",
    "            r_count += 1\n",
    "            hs_count += 1\n",
    "        elif relate == \"FS\":\n",
    "            fullsibs += relate + \"\\t\" + linelist[0] + \"\\t\" + linelist[1] + \"\\n\"\n",
    "            r_count += 1\n",
    "            fs_count += 1\n",
    "        else:\n",
    "            u_count += 1\n",
    "infile.close()\n",
    "\n",
    "outfile.write(fullsibs)\n",
    "outfile.write(halfsibs)\n",
    "outfile.close()\n",
    "\n",
    "print r_count, \" detected related pairs: \", hs_count, \" half sib pairs & \", fs_count, \" full sib pairs.\"\n",
    "print u_count, \" unrelated pairs\""
   ]
  },
  {
   "cell_type": "markdown",
   "metadata": {},
   "source": [
    "**By looking at the pairs in excel, I found that:**\n",
    "\n",
    "(1) ML Relate caught 29/35 replicates as full sibs. This is ok, but not ideal. Fairly good sign for it's reliability on this run, will not explore all half-sib pairs.\n",
    "\n",
    "(2) I explored samples for contamination if: a. they were full sibling pairs, b. They were identified as in sibling relationships more than three times throughout the list, and c. They were identified as in sibling relationships three times throughout the list AND across sampling sites\n",
    "\n",
    "<br>\n",
    "<br>\n",
    "\n",
    "This was a little unweidly for Jupyter Notebooks, so see [this excel spreadsheet]() for breakdown of heterozygosity, missing data, and plate locations\n",
    "\n",
    "<br>\n",
    "<br>\n",
    "\n",
    "(3) Samples to remove:\n",
    "\n",
    "* GE012315_06.1\n",
    "* GE012315_05.1\n",
    "* GE012315_09.1\n",
    "* GE012315_11_2\n",
    "* GE011215_30.1\n",
    "* GE012315_11.1\n",
    "* NA021015_06_2\n",
    "* NA021015_09_2\n",
    "* NA021015_10_2\n",
    "* NA021015_13.1\n",
    "* NA021015_06.1\n",
    "* NA021015_10.1\n",
    "* NA021015_09.1\n",
    "* GE012315_04.1\n",
    "\n",
    "\n",
    "(4) Samples to keep an eye on:\n",
    "\n",
    "* JB121807_30_2\n",
    "* JB121807_05_2\n",
    "* JB121807_39\n",
    "* JB021108_20\n"
   ]
  },
  {
   "cell_type": "markdown",
   "metadata": {},
   "source": [
    "### - East"
   ]
  },
  {
   "cell_type": "code",
   "execution_count": 30,
   "metadata": {
    "scrolled": true
   },
   "outputs": [
    {
     "name": "stdout",
     "output_type": "stream",
     "text": [
      "4  detected related pairs:  0  half sib pairs &  4  full sib pairs.\n",
      "626  unrelated pairs\n"
     ]
    }
   ],
   "source": [
    "infile = open(\"MLrelate_b8_east.txt\", \"r\")\n",
    "outfile = open(\"MLrelate_b8_east_relatedIndivids.txt\", \"w\")\n",
    "\n",
    "outfile.write(\"relatedness\\tsample1\\tsample2\\n\")\n",
    "\n",
    "for line in infile:\n",
    "    if line.startswith(\"Ind1\"):\n",
    "        break\n",
    "\n",
    "r_count = 0\n",
    "u_count = 0\n",
    "\n",
    "halfsibs = \"\"\n",
    "hs_count = 0\n",
    "fullsibs = \"\"\n",
    "fs_count = 0\n",
    "for line in infile:\n",
    "    linelist = line.strip().split()\n",
    "    if len(linelist) > 2:\n",
    "        relate = linelist[2]\n",
    "        if relate == \"HS\":\n",
    "            halfsibs += relate + \"\\t\" + linelist[0] + \"\\t\" + linelist[1] + \"\\n\"\n",
    "            r_count += 1\n",
    "            hs_count += 1\n",
    "        elif relate == \"FS\":\n",
    "            fullsibs += relate + \"\\t\" + linelist[0] + \"\\t\" + linelist[1] + \"\\n\"\n",
    "            r_count += 1\n",
    "            fs_count += 1\n",
    "        else:\n",
    "            u_count += 1\n",
    "infile.close()\n",
    "\n",
    "outfile.write(fullsibs)\n",
    "outfile.write(halfsibs)\n",
    "outfile.close()\n",
    "\n",
    "print r_count, \" detected related pairs: \", hs_count, \" half sib pairs & \", fs_count, \" full sib pairs.\"\n",
    "print u_count, \" unrelated pairs\""
   ]
  },
  {
   "cell_type": "markdown",
   "metadata": {},
   "source": [
    "<br>\n",
    "\n",
    "(1) ML Relate caught 4 / 4 replicates as full sibs\n",
    "\n",
    "(2) No other sibling pairs were identified in this group. (YAY!!)\n",
    "\n",
    "<br>"
   ]
  },
  {
   "cell_type": "markdown",
   "metadata": {},
   "source": [
    "### --- West"
   ]
  },
  {
   "cell_type": "code",
   "execution_count": 31,
   "metadata": {},
   "outputs": [
    {
     "name": "stdout",
     "output_type": "stream",
     "text": [
      "17  detected related pairs:  8  half sib pairs &  9  full sib pairs.\n",
      "1414  unrelated pairs\n"
     ]
    }
   ],
   "source": [
    "infile = open(\"MLrelate_b8_west.txt\", \"r\")\n",
    "outfile = open(\"MLrelate_b8_west_relatedIndivids.txt\", \"w\")\n",
    "\n",
    "outfile.write(\"relatedness\\tsample1\\tsample2\\n\")\n",
    "\n",
    "for line in infile:\n",
    "    if line.startswith(\"Ind1\"):\n",
    "        break\n",
    "\n",
    "r_count = 0\n",
    "u_count = 0\n",
    "\n",
    "halfsibs = \"\"\n",
    "hs_count = 0\n",
    "fullsibs = \"\"\n",
    "fs_count = 0\n",
    "for line in infile:\n",
    "    linelist = line.strip().split()\n",
    "    if len(linelist) > 2:\n",
    "        relate = linelist[2]\n",
    "        if relate == \"HS\":\n",
    "            halfsibs += relate + \"\\t\" + linelist[0] + \"\\t\" + linelist[1] + \"\\n\"\n",
    "            r_count += 1\n",
    "            hs_count += 1\n",
    "        elif relate == \"FS\":\n",
    "            fullsibs += relate + \"\\t\" + linelist[0] + \"\\t\" + linelist[1] + \"\\n\"\n",
    "            r_count += 1\n",
    "            fs_count += 1\n",
    "        else:\n",
    "            u_count += 1\n",
    "infile.close()\n",
    "\n",
    "outfile.write(fullsibs)\n",
    "outfile.write(halfsibs)\n",
    "outfile.close()\n",
    "\n",
    "print r_count, \" detected related pairs: \", hs_count, \" half sib pairs & \", fs_count, \" full sib pairs.\"\n",
    "print u_count, \" unrelated pairs\""
   ]
  },
  {
   "cell_type": "markdown",
   "metadata": {
    "collapsed": true
   },
   "source": [
    "<br>\n",
    "\n",
    "(1) ML Relate correctly identified 6 / 6 replicates as full sibs \n",
    "<br>\n",
    "<br>\n",
    "\n",
    "(2) Samples to remove:\n",
    "* YS_121316_20.1\n",
    "* YS121315_14.1\n",
    "* YS121315_14_2\n",
    "* BOR07_10.1\n",
    "\n",
    "\n",
    "\n",
    "(4) I need to keep an eye on the following samples: \n",
    "* YS121315_16\n",
    "* YS_121316_19\n",
    "\n",
    "<br>\n",
    "<br>\n",
    "<br>\n",
    "\n",
    "### Additional samples removed for high heterozygosity\n",
    "\n",
    "* PO031715_13.1\n",
    "* PO010715_02_rep\n",
    "* GE012315_10.1\n",
    "* NA021015_03.1\n",
    "\n",
    "<br>\n",
    "#### for list of contaminated samples: scripts/Batch_8_verif_Samples_Reps_Contam_removed.txt\n",
    "\n",
    "<br>\n",
    "<br>\n",
    "### New Genepop"
   ]
  },
  {
   "cell_type": "code",
   "execution_count": 1,
   "metadata": {},
   "outputs": [
    {
     "data": {
      "text/plain": [
       "u'/mnt/hgfs/PCod-Korea-repo/notebooks'"
      ]
     },
     "execution_count": 1,
     "metadata": {},
     "output_type": "execute_result"
    }
   ],
   "source": [
    "pwd"
   ]
  },
  {
   "cell_type": "code",
   "execution_count": 5,
   "metadata": {
    "scrolled": true
   },
   "outputs": [
    {
     "name": "stdout",
     "output_type": "stream",
     "text": [
      "/mnt/hgfs/PCod-Korea-repo\n"
     ]
    }
   ],
   "source": [
    "cd ../"
   ]
  },
  {
   "cell_type": "code",
   "execution_count": 6,
   "metadata": {},
   "outputs": [
    {
     "name": "stdout",
     "output_type": "stream",
     "text": [
      "Removing  20  samples from file.\n",
      "Wrote  278  samples to new file.\n"
     ]
    }
   ],
   "source": [
    "infile = open(\"stacks_b8_verif/batch_8_filteredMAF_filteredIndivids30_filteredLoci_filteredHWE_genepop.txt\", \"r\")\n",
    "samplefile = open(\"scripts/Batch_8_verif_Samples_Reps_Contam_removed.txt\", \"r\")\n",
    "outfile = open(\"stacks_b8_verif/batch_8_filteredMAF_filteredIndivids30_filteredLoci_filteredHWE_filteredC_genepop.txt\", \"w\")\n",
    "\n",
    "## get list of samples to remove\n",
    "count = 0\n",
    "samples_to_remove = []\n",
    "for line in samplefile:\n",
    "    if not line.startswith(\"#\"):\n",
    "        samples_to_remove.append(line.strip())\n",
    "        count += 1\n",
    "samplefile.close()\n",
    "print \"Removing \", count, \" samples from file.\"\n",
    "\n",
    "## remove those samples from genepop and write to new file\n",
    "keep = 0\n",
    "line = infile.readline()\n",
    "while not line.startswith(\"Pop\"):\n",
    "    outfile.write(line)\n",
    "    line = infile.readline()\n",
    "outfile.write(line)\n",
    "for line in infile:\n",
    "    if line.startswith(\"Pop\"):\n",
    "        outfile.write(line)\n",
    "    else:\n",
    "        sample = line.strip().split()[0].strip(\",\")\n",
    "        if sample not in samples_to_remove:\n",
    "            outfile.write(line)\n",
    "            keep += 1\n",
    "print \"Wrote \", keep, \" samples to new file.\"\n",
    "infile.close()\n",
    "outfile.close()"
   ]
  },
  {
   "cell_type": "markdown",
   "metadata": {
    "collapsed": true
   },
   "source": [
    "\n",
    "<br>\n",
    "<br>\n",
    "\n",
    "#### FINAL SAMPLE LIST: `POPMAP_FINAL_noreps_noc.txt`"
   ]
  }
 ],
 "metadata": {
  "anaconda-cloud": {},
  "kernelspec": {
   "display_name": "Python 2",
   "language": "python",
   "name": "python2"
  },
  "language_info": {
   "codemirror_mode": {
    "name": "ipython",
    "version": 2
   },
   "file_extension": ".py",
   "mimetype": "text/x-python",
   "name": "python",
   "nbconvert_exporter": "python",
   "pygments_lexer": "ipython2",
   "version": "2.7.13"
  }
 },
 "nbformat": 4,
 "nbformat_minor": 1
}