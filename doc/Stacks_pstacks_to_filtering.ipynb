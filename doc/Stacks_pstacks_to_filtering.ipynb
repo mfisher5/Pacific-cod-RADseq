{
 "cells": [
  {
   "cell_type": "markdown",
   "metadata": {},
   "source": [
    "## Batch 8 - nb 1 \n",
    "### pstacks --> populations --> filtering\n",
    "\n",
    "Difference from batch 7: stack depth parameter in `pstacks` lowered to -m 5.\n",
    "Same `.sam` alignment files, same `cstacks` catalog.\n",
    "\n",
    "<br>\n",
    "\n",
    "### pstacks to sstacks"
   ]
  },
  {
   "cell_type": "code",
   "execution_count": null,
   "metadata": {
    "collapsed": true
   },
   "outputs": [],
   "source": [
    "./pstacks_sstacks_b8.sh"
   ]
  },
  {
   "cell_type": "markdown",
   "metadata": {},
   "source": [
    "### populations"
   ]
  },
  {
   "cell_type": "code",
   "execution_count": null,
   "metadata": {
    "collapsed": true
   },
   "outputs": [],
   "source": [
    "populations -b 7 -P stacks_b8_wgenome  -M scripts/PopMap_L1-5.txt \\\n",
    "-t 36 -r 0.80 -p 4 -m 10 \\\n",
    "--write_random_snp \\\n",
    "--genepop --fasta 2>> populations_out_batch8"
   ]
  },
  {
   "cell_type": "markdown",
   "metadata": {},
   "source": [
    "### Number of alleles per snp\n",
    "\n",
    "i.e. will Marine's filtering script remove a lot of helpful information?"
   ]
  },
  {
   "cell_type": "code",
   "execution_count": 9,
   "metadata": {},
   "outputs": [
    {
     "name": "stdout",
     "output_type": "stream",
     "text": [
      "/mnt/hgfs/Pacific cod/DataAnalysis/PCod-Korea-repo/stacks_b8_wgenome\n"
     ]
    }
   ],
   "source": [
    "cd ../../stacks_b8_wgenome"
   ]
  },
  {
   "cell_type": "code",
   "execution_count": 13,
   "metadata": {
    "collapsed": true
   },
   "outputs": [],
   "source": [
    "infile = open(\"batch_7.catalog.snps.tsv\", \"r\")\n",
    "infile.readline()\n",
    "n_alleles_dict = {}\n",
    "for line in infile:\n",
    "    linelist = line.strip().split()\n",
    "    alleles = linelist[6:9]\n",
    "    n_alleles = len([i for i in alleles if i != \"-\"])\n",
    "    locus_snp_pair = linelist[2] + \"_\" + linelist[3]\n",
    "    n_alleles_dict[locus_snp_pair] = n_alleles\n",
    "infile.close()"
   ]
  },
  {
   "cell_type": "code",
   "execution_count": 14,
   "metadata": {
    "collapsed": true
   },
   "outputs": [],
   "source": [
    "infile=open(\"batch_7.genepop\", \"r\")\n",
    "infile.readline()\n",
    "loci_list = infile.readline().strip().split(\",\")"
   ]
  },
  {
   "cell_type": "code",
   "execution_count": 17,
   "metadata": {
    "collapsed": true
   },
   "outputs": [],
   "source": [
    "infile.close()"
   ]
  },
  {
   "cell_type": "code",
   "execution_count": 18,
   "metadata": {},
   "outputs": [],
   "source": [
    "n_alleles_list = []\n",
    "for i in n_alleles_dict.keys():\n",
    "    if i in loci_list:\n",
    "        n_alleles_list.append(n_alleles_dict[i])"
   ]
  },
  {
   "cell_type": "code",
   "execution_count": 24,
   "metadata": {
    "scrolled": true
   },
   "outputs": [
    {
     "data": {
      "image/png": "[encoded data removed]",
      "text/plain": [
       "<matplotlib.figure.Figure at 0x7fd205369cd0>"
      ]
     },
     "metadata": {},
     "output_type": "display_data"
    }
   ],
   "source": [
    "import numpy as np\n",
    "import matplotlib.pyplot as plt\n",
    "plt.hist(n_alleles_list, bins=np.arange(1,5,1) + 0.5)\n",
    "plt.suptitle(\"Number of alleles per SNP (Locus)\")\n",
    "plt.show()"
   ]
  },
  {
   "cell_type": "code",
   "execution_count": 25,
   "metadata": {
    "collapsed": true
   },
   "outputs": [],
   "source": [
    "plt.close()"
   ]
  },
  {
   "cell_type": "code",
   "execution_count": 26,
   "metadata": {},
   "outputs": [
    {
     "name": "stdout",
     "output_type": "stream",
     "text": [
      "21126\n"
     ]
    }
   ],
   "source": [
    "print len(loci_list)"
   ]
  },
  {
   "cell_type": "markdown",
   "metadata": {},
   "source": [
    "<br>\n",
    "<br>\n",
    "<br>\n",
    "\n",
    "### Filtering"
   ]
  },
  {
   "cell_type": "code",
   "execution_count": 27,
   "metadata": {},
   "outputs": [
    {
     "data": {
      "text/plain": [
       "u'/mnt/hgfs/Pacific cod/DataAnalysis/PCod-Korea-repo/stacks_b8_wgenome'"
      ]
     },
     "execution_count": 27,
     "metadata": {},
     "output_type": "execute_result"
    }
   ],
   "source": [
    "pwd"
   ]
  },
  {
   "cell_type": "code",
   "execution_count": 28,
   "metadata": {},
   "outputs": [
    {
     "name": "stdout",
     "output_type": "stream",
     "text": [
      "/mnt/hgfs/Pacific cod/DataAnalysis/PCod-Korea-repo/scripts/PostStacksFiltering\n"
     ]
    }
   ],
   "source": [
    "cd ../scripts/PostStacksFiltering/"
   ]
  },
  {
   "cell_type": "code",
   "execution_count": 29,
   "metadata": {},
   "outputs": [],
   "source": [
    "!python genBASH_finalfilters.py Input_extraFilters_b8_9-28.txt"
   ]
  },
  {
   "cell_type": "code",
   "execution_count": 30,
   "metadata": {},
   "outputs": [
    {
     "name": "stdout",
     "output_type": "stream",
     "text": [
      "Before running running this script, please be sure that you have the following:\n",
      "\n",
      "1. A single folder containing (1) stacks populations output, and (2) batch catalog files\n",
      "\n",
      "2. These additional python scripts: (1) prep_for_extraFilters.py, (2) preparing_file_for_correcting_genotypes.py, (3) gzip_MBgenotypesverif_BASHshell.sh, (4) MB_genotypes_verif_v2_no_ref.py, (5) genepop_conversion_corrected.py, (6) transpose.py, (7) Eleni_filter_by_MinorAlleleFrequency (8) FilterLoci_by_MissingValues.py.\n",
      "\n",
      "3. The INPUT text file, UPDATED FOR YOUR DATA\n",
      "\n",
      "Are you ready for the script to run?\n",
      "^C\n"
     ]
    }
   ],
   "source": [
    "# in terminal\n",
    "!./PostStacksFiltering_b7_wgenome.sh"
   ]
  },
  {
   "cell_type": "code",
   "execution_count": null,
   "metadata": {
    "collapsed": true
   },
   "outputs": [],
   "source": [
    "python Eleni_filter_by_MinorAlleleFrequency_takeARGS.py ../../stacks_b8_wgenome/batch_7.CorrectedGenotypes_biallelic_TRANSPOSED.csv \\\n",
    "../../stacks_b8_wgenome/batch_8.filteredMAF_outputFreqs \\\n",
    "../../stacks_b8_wgenome/batch_8.filteredMAF \\\n",
    "../../stacks_b8_wgenome/batch_8.MAFfiltering_BADgenotypes \\\n",
    "../../stacks_b8_wgenome/batch_8.MAFfiltering_blacklistedMAF"
   ]
  },
  {
   "cell_type": "markdown",
   "metadata": {},
   "source": [
    "**7,841 Loci**"
   ]
  },
  {
   "cell_type": "code",
   "execution_count": 32,
   "metadata": {},
   "outputs": [
    {
     "name": "stdout",
     "output_type": "stream",
     "text": [
      "usage: filter_individs_missing_data.py [-h] [-f INPUT] [-og OUTPUT_GOOD]\r\n",
      "                                       [-ob OUTPUT_BAD]\r\n",
      "                                       [-op OUTPUT_PROPORTIONS]\r\n",
      "                                       [-s STACKS_PATH] [-p PERCENT]\r\n",
      "\r\n",
      "filter individuals for missing data. for use after Eleni's MAF filtering.\r\n",
      "assumes individuals are *columns* and loci are rows\r\n",
      "\r\n",
      "optional arguments:\r\n",
      "  -h, --help            show this help message and exit\r\n",
      "  -f INPUT, --input INPUT\r\n",
      "                        genotype file in 2 x 2 matrix\r\n",
      "  -og OUTPUT_GOOD, --output_good OUTPUT_GOOD\r\n",
      "                        output file containing 'good' loci\r\n",
      "  -ob OUTPUT_BAD, --output_bad OUTPUT_BAD\r\n",
      "                        output file containing 'bad' loci\r\n",
      "  -op OUTPUT_PROPORTIONS, --output_proportions OUTPUT_PROPORTIONS\r\n",
      "                        output file containing the missing data per individual\r\n",
      "  -s STACKS_PATH, --stacks_path STACKS_PATH\r\n",
      "                        path to the directory containing your stacks files\r\n",
      "  -p PERCENT, --percent PERCENT\r\n",
      "                        threshold to remove missing data: ___ percent or more\r\n",
      "                        loci missing genotypes\r\n"
     ]
    }
   ],
   "source": [
    "!python filter_individs_missing_data.py -h"
   ]
  },
  {
   "cell_type": "code",
   "execution_count": 34,
   "metadata": {},
   "outputs": [
    {
     "name": "stdout",
     "output_type": "stream",
     "text": [
      "Transposing matrix...\n",
      "calculating which individuals are missing too much data...\n",
      "Deleting temporary file...\n",
      "writing individuals to files...\n",
      "done.\n",
      "Total individuals processed:  326\n",
      "Individuals retained:  306\n",
      "Individuals removed:  20\n",
      "Missing data info per individual can be found in the 'proportions' output file.\n"
     ]
    }
   ],
   "source": [
    "!python filter_individs_missing_data.py \\\n",
    "-f batch_8.filteredMAF \\\n",
    "-og batch_8.filteredMAF_filteredIndivids30 \\\n",
    "-ob batch_8.filteredMAF_filteredIndivids30_BAD \\\n",
    "-op batch_8.filteredMAF_filteredIndivids30_freqs \\\n",
    "-s../../stacks_b8_wgenome \\\n",
    "-p 0.30"
   ]
  },
  {
   "cell_type": "markdown",
   "metadata": {},
   "source": [
    "*Created a new population map that excluded the individuals filtered out for missing data*"
   ]
  },
  {
   "cell_type": "markdown",
   "metadata": {},
   "source": [
    "#### 9/29/2017"
   ]
  },
  {
   "cell_type": "code",
   "execution_count": 2,
   "metadata": {
    "scrolled": true
   },
   "outputs": [
    {
     "name": "stdout",
     "output_type": "stream",
     "text": [
      "/mnt/hgfs/Pacific cod/DataAnalysis/PCod-Korea-repo/scripts/PostStacksFiltering\n"
     ]
    }
   ],
   "source": [
    "cd ../scripts/PostStacksFiltering/"
   ]
  },
  {
   "cell_type": "markdown",
   "metadata": {},
   "source": [
    "*My missing loci data script assumes sample are column headers; I need to transpose my file first*"
   ]
  },
  {
   "cell_type": "code",
   "execution_count": 11,
   "metadata": {},
   "outputs": [
    {
     "name": "stdout",
     "output_type": "stream",
     "text": [
      "## This script was written by Dan Drinan and transposes the rows and columns of a haplotype file\r\n",
      "#python transpose.py batch_2_corrected_genotypes_2_alleles_genepop.txt batch_2_corrected_genotypes_2_alleles_genepop_transposed.txt\r\n",
      "\r\n",
      "import sys\r\n",
      "\r\n",
      "input_file = open(sys.argv[1], 'r')\r\n",
      "\r\n",
      "header = True\r\n",
      "matrix_of_data = []\r\n",
      "\r\n"
     ]
    }
   ],
   "source": [
    "!head transpose.py"
   ]
  },
  {
   "cell_type": "code",
   "execution_count": 16,
   "metadata": {},
   "outputs": [],
   "source": [
    "!python transpose.py \\\n",
    "../../stacks_b8_wgenome/batch_8.filteredMAF_filteredIndivids30 \\\n",
    "../../stacks_b8_wgenome/batch_8.filteredMAF_filteredIndivids30_TRANSPOSED"
   ]
  },
  {
   "cell_type": "code",
   "execution_count": 17,
   "metadata": {},
   "outputs": [
    {
     "name": "stdout",
     "output_type": "stream",
     "text": [
      "### This file generates Eleni's Missing Loci filtering file ###\r\n",
      "\r\n",
      "## MF 2/24/2017\r\n",
      "\r\n",
      "## Arguments: \r\n",
      "##-- population map\r\n",
      "\r\n",
      "\r\n",
      "\r\n",
      "#########################\r\n"
     ]
    }
   ],
   "source": [
    "!head genMissingLoci.py"
   ]
  },
  {
   "cell_type": "code",
   "execution_count": 18,
   "metadata": {
    "scrolled": true
   },
   "outputs": [
    {
     "name": "stdout",
     "output_type": "stream",
     "text": [
      "You have 9 populations.\r\n",
      "These are your populations, with the number of samples in each:\r\n",
      "OrderedDict([('Pohang15', 34), ('Geoje15', 37), ('Namhae15', 19), ('YellowSea16', 30), ('Jukbyeon07', 37), ('JinhaeBay07', 44), ('JinhaeBay08', 46), ('Boryeong07', 24), ('Geoje14', 35)])\r\n"
     ]
    }
   ],
   "source": [
    "!python genMissingLoci.py ../PopMap_L1-5_mdFilter_b8.txt"
   ]
  },
  {
   "cell_type": "markdown",
   "metadata": {},
   "source": [
    "*Had to edit script because it assumes that it is splitting by \",\"*"
   ]
  },
  {
   "cell_type": "code",
   "execution_count": 21,
   "metadata": {},
   "outputs": [
    {
     "name": "stdout",
     "output_type": "stream",
     "text": [
      "### This scripts removes loci with too much missing data (you set the threshold)\r\n",
      "#Adjusted from Eleni's script (June 15,2015) to take arguments\r\n",
      "#MF 2/28/2017\r\n",
      "\r\n",
      "#################\r\n",
      "\r\n",
      "\r\n",
      "import sys\r\n",
      "\r\n",
      "# Open your files for reading and writing\r\n",
      "genotypes_file = open(sys.argv[1],'r')\r\n",
      "clean_output_file = open(sys.argv[2],'w')\r\n",
      "blacklisted_output_file = open(sys.argv[3], 'w')\r\n",
      "\r\n",
      "#run for loop to counting missing genotypes by locus for each population\r\n"
     ]
    }
   ],
   "source": [
    "!head -n 15 FilterLoci_by_MissingValues.py"
   ]
  },
  {
   "cell_type": "code",
   "execution_count": 23,
   "metadata": {},
   "outputs": [
    {
     "name": "stdout",
     "output_type": "stream",
     "text": [
      "processed 7841 loci\r\n",
      "Number of loci removed: 1822\r\n"
     ]
    }
   ],
   "source": [
    "!python FilterLoci_by_MissingValues.py \\\n",
    "../../stacks_b8_wgenome/batch_8.filteredMAF_filteredIndivids30_TRANSPOSED \\\n",
    "../../stacks_b8_wgenome/batch_8.filteredMAF_filteredIndivids30_filteredLoci \\\n",
    "../../stacks_b8_wgenome/batch_8.filteredMAF_filteredIndivids30_filteredLoci_BAD"
   ]
  },
  {
   "cell_type": "code",
   "execution_count": 24,
   "metadata": {},
   "outputs": [
    {
     "name": "stdout",
     "output_type": "stream",
     "text": [
      "LOCI REMAINING  6019\n"
     ]
    }
   ],
   "source": [
    "print \"LOCI REMAINING \", 7841-1822"
   ]
  },
  {
   "cell_type": "markdown",
   "metadata": {},
   "source": [
    "<br>\n",
    "<br>\n",
    "<br>\n",
    "\n",
    "### HWE Filtering\n",
    "\n",
    "** Convert file to genepop format**\n"
   ]
  },
  {
   "cell_type": "code",
   "execution_count": 25,
   "metadata": {},
   "outputs": [
    {
     "name": "stdout",
     "output_type": "stream",
     "text": [
      "usage: csv_conversion_forGENEPOP.py [-h] [-f INPUT] [-o OUTPUT] [-m POPMAP]\r\n",
      "                                    [-pm PATH_POPMAP] [-ps PATH_STACKS]\r\n",
      "                                    [-t TITLE] [-split SPLIT_BY]\r\n",
      "\r\n",
      "convert matrix file (samples as column headers) to a genepop file.\r\n",
      "\r\n",
      "optional arguments:\r\n",
      "  -h, --help            show this help message and exit\r\n",
      "  -f INPUT, --input INPUT\r\n",
      "                        2 x 2 matrix file with samples as column headers, one\r\n",
      "                        row per locus.\r\n",
      "  -o OUTPUT, --output OUTPUT\r\n",
      "                        output file in genepop format\r\n",
      "  -m POPMAP, --popmap POPMAP\r\n",
      "                        population map file\r\n",
      "  -pm PATH_POPMAP, --path_popmap PATH_POPMAP\r\n",
      "                        path to population map file\r\n",
      "  -ps PATH_STACKS, --path_stacks PATH_STACKS\r\n",
      "                        path to stacks files, including input file\r\n",
      "  -t TITLE, --title TITLE\r\n",
      "                        title for your genepop file\r\n",
      "  -split SPLIT_BY, --split_by SPLIT_BY\r\n",
      "                        split contents of each line by... ['tab' / 'space']\r\n"
     ]
    }
   ],
   "source": [
    "!python csv_conversion_forGENEPOP.py -h"
   ]
  },
  {
   "cell_type": "code",
   "execution_count": 26,
   "metadata": {},
   "outputs": [
    {
     "name": "stdout",
     "output_type": "stream",
     "text": [
      "You have 9 populations.\n",
      "These are your populations, with the number of samples in each:\n",
      "OrderedDict([('Pohang15', 34), ('Geoje15', 37), ('Namhae15', 19), ('YellowSea16', 30), ('Jukbyeon07', 37), ('JinhaeBay07', 44), ('JinhaeBay08', 46), ('Boryeong07', 24), ('Geoje14', 35)])\n",
      "creating script for part 2...\n",
      "calling script for part 2...\n",
      "transposing genotypes matrix...\n",
      "writing loci into genepop file...\n",
      "writing genotypes into genepop file by population...\n",
      "done.\n"
     ]
    }
   ],
   "source": [
    "!python csv_conversion_forGENEPOP.py \\\n",
    "-f batch_8.filteredMAF_filteredIndivids30_filteredLoci \\\n",
    "-o batch_8_filteredMAF_filteredIndivids30_filteredLoci_genepop.txt \\\n",
    "-m PopMap_L1-5_mdFilter_b8.txt \\\n",
    "-pm ../ \\\n",
    "-ps ../../stacks_b8_wgenome \\\n",
    "-t \"Korean Pacific cod filtered final genepop for HWE filtering, stacks b8, MF 9/29/2017\" \\\n",
    "-split \"space\""
   ]
  },
  {
   "cell_type": "markdown",
   "metadata": {},
   "source": [
    "** Parse GENEPOP output**"
   ]
  },
  {
   "cell_type": "code",
   "execution_count": 27,
   "metadata": {},
   "outputs": [
    {
     "name": "stdout",
     "output_type": "stream",
     "text": [
      "/mnt/hgfs/Pacific cod/DataAnalysis/PCod-Korea-repo/analyses\n"
     ]
    }
   ],
   "source": [
    "cd ../../analyses"
   ]
  },
  {
   "cell_type": "code",
   "execution_count": 28,
   "metadata": {},
   "outputs": [
    {
     "name": "stdout",
     "output_type": "stream",
     "text": [
      "usage: parse_genepop_HWEbylocus.py [-h] [-p P] [-op OUTPUTPVAL]\r\n",
      "                                   [-of OUTPUTFIS]\r\n",
      "\r\n",
      "optional arguments:\r\n",
      "  -h, --help            show this help message and exit\r\n",
      "  -p P, --P P           path & name of .P file output from genepop\r\n",
      "  -op OUTPUTPVAL, --OUTPUTpval OUTPUTPVAL\r\n",
      "                        path & name of the output file for the parsed HWE\r\n",
      "                        pvalues\r\n",
      "  -of OUTPUTFIS, --OUTPUTfis OUTPUTFIS\r\n",
      "                        path & name of the output file for the parsed Fis\r\n",
      "                        values\r\n"
     ]
    }
   ],
   "source": [
    "!python parse_genepop_HWEbylocus.py -h"
   ]
  },
  {
   "cell_type": "code",
   "execution_count": 29,
   "metadata": {},
   "outputs": [
    {
     "name": "stdout",
     "output_type": "stream",
     "text": [
      "generating dictionaries of pvalues and fis values...\n",
      "writing output to files...\n",
      "done.\n"
     ]
    }
   ],
   "source": [
    "!python parse_genepop_HWEbylocus.py \\\n",
    "-p ../stacks_b8_wgenome/batch_8_filteredMAF_filteredIndivids30_filteredLoci_genepop.txt.P \\\n",
    "-op HWE/batch8/batch_8_HWEpvals_parsed.txt \\\n",
    "-of HWE/batch8/batch_8_HWEfis_parsed.txt"
   ]
  },
  {
   "cell_type": "markdown",
   "metadata": {},
   "source": [
    "**Graph Distribution Before Filtering**"
   ]
  },
  {
   "cell_type": "code",
   "execution_count": 30,
   "metadata": {},
   "outputs": [
    {
     "name": "stdout",
     "output_type": "stream",
     "text": [
      "/mnt/hgfs/Pacific cod/DataAnalysis/PCod-Korea-repo/analyses/HWE/batch8\n"
     ]
    }
   ],
   "source": [
    "cd HWE/batch8"
   ]
  },
  {
   "cell_type": "code",
   "execution_count": 31,
   "metadata": {
    "collapsed": true
   },
   "outputs": [],
   "source": [
    "infile = open(\"batch_8_HWEpvals_parsed.txt\", \"r\")\n",
    "\n",
    "percents = []\n",
    "loci_list = []\n",
    "na_count = 0\n",
    "\n",
    "for line in infile:\n",
    "    if \"locus\" not in line:\n",
    "        if line.strip().split()[10]:\n",
    "            new_percent = float(line.strip().split()[10])\n",
    "            percents.append(new_percent)\n",
    "            loci_list.append(line.strip().split()[0])\n",
    "\n",
    "infile.close()"
   ]
  },
  {
   "cell_type": "code",
   "execution_count": 32,
   "metadata": {},
   "outputs": [
    {
     "data": {
      "image/png": "[encoded data removed]",
      "text/plain": [
       "<matplotlib.figure.Figure at 0x7fccfc484090>"
      ]
     },
     "metadata": {},
     "output_type": "display_data"
    }
   ],
   "source": [
    "import numpy as np\n",
    "import matplotlib.pyplot as plt\n",
    "plt.hist(percents, bins = np.arange(-0.1, 1, .0625)+0.05, color = \"darkcyan\")\n",
    "plt.suptitle(\"Distribution of % of populations out of HWE\")\n",
    "plt.xlabel(\"% of populations out of HWE (by locus)\")\n",
    "plt.ylabel(\"# Loci\")\n",
    "plt.show()"
   ]
  },
  {
   "cell_type": "code",
   "execution_count": 33,
   "metadata": {
    "collapsed": true
   },
   "outputs": [],
   "source": [
    "plt.close()"
   ]
  },
  {
   "cell_type": "markdown",
   "metadata": {},
   "source": [
    "**Multiple testing + Chi square Technique**"
   ]
  },
  {
   "cell_type": "code",
   "execution_count": 34,
   "metadata": {},
   "outputs": [
    {
     "name": "stdout",
     "output_type": "stream",
     "text": [
      "You have  614  loci out of HWE.\n"
     ]
    }
   ],
   "source": [
    "from scipy.stats import chisqprob\n",
    "import numpy as np\n",
    "\n",
    "## STEP ONE: conduct chisquare and determine loci out of HWE. \n",
    "## write results to a file and save a list of the loci out of HWE. \n",
    "\n",
    "infile = open(\"batch_8_HWEpvals_parsed.txt\", \"r\")\n",
    "outfile = open(\"batch_8_HWEchisquare.txt\", \"w\")\n",
    "\n",
    "outfile.write(\"locus\\tChiSquare\\tdf\\tpvalue\\n\")\n",
    "\n",
    "sig_count = 0\n",
    "loci_to_discard = []\n",
    "\n",
    "for line in infile:\n",
    "    if \"locus\" not in line:\n",
    "        linelist= line.strip().split()\n",
    "        outfile.write(linelist[0]) #write locus name to outfile\n",
    "        sum = 0 #sum of ln(pvals)\n",
    "        n_pops = 0 # number of pops with pvals (some will have NAs)\n",
    "        for i in range(1,8):\n",
    "            if linelist[i] != \"NA\" and float(linelist[i]) == 0.0:\n",
    "                newval = np.log(float(0.00000000001))\n",
    "                sum += newval\n",
    "                n_pops += 1\n",
    "            elif linelist[i] != \"NA\" and float(linelist[i]) != 0.0:\n",
    "                newval = np.log(float(linelist[i]))\n",
    "                sum += newval\n",
    "                n_pops += 1\n",
    "        chisquare = float(-2) * float(sum)\n",
    "        df = n_pops * 2\n",
    "        outfile.write(\"\\t\" + str(chisquare) + \"\\t\" + str(df))\n",
    "        pvalue = chisqprob(chisquare,df)\n",
    "        if pvalue < 0.05:\n",
    "            sig_count += 1\n",
    "            loci_to_discard.append(linelist[0])\n",
    "        outfile.write(\"\\t\" + str(pvalue) + \"\\n\")\n",
    "infile.close()\n",
    "outfile.close()\n",
    "\n",
    "print \"You have \", sig_count, \" loci out of HWE.\""
   ]
  },
  {
   "cell_type": "code",
   "execution_count": 35,
   "metadata": {},
   "outputs": [
    {
     "name": "stdout",
     "output_type": "stream",
     "text": [
      "5405  loci written to output file.\n"
     ]
    }
   ],
   "source": [
    "## STEP TWO: rewrite the file of HWEpvals by locus by population, \n",
    "## excluding those loci out of HWE. \n",
    "\n",
    "infile = open(\"batch_8_HWEpvals_parsed.txt\", \"r\")\n",
    "outfile = open(\"batch_8_HWEpvals_filtered.txt\", \"w\")\n",
    "\n",
    "locus_count = 0\n",
    "\n",
    "for line in infile:\n",
    "    if line.startswith(\"#\"):\n",
    "        outfile.write(\"# parsed GENEPOP output, HWE p-values by locus by population FILTERED #\\n\")\n",
    "    elif line.startswith(\"locus\"):\n",
    "        outfile.write(line)\n",
    "    else:\n",
    "        locus = line.strip().split()[0]\n",
    "        if locus not in loci_to_discard:\n",
    "            outfile.write(line)\n",
    "            locus_count += 1\n",
    "infile.close()\n",
    "outfile.close()\n",
    "print locus_count, \" loci written to output file.\""
   ]
  },
  {
   "cell_type": "markdown",
   "metadata": {},
   "source": [
    "**New Distribution**"
   ]
  },
  {
   "cell_type": "code",
   "execution_count": 36,
   "metadata": {
    "collapsed": true
   },
   "outputs": [],
   "source": [
    "infile = open(\"batch_8_HWEpvals_filtered.txt\", \"r\")\n",
    "\n",
    "percents = []\n",
    "loci_list = []\n",
    "\n",
    "for line in infile:\n",
    "    if \"locus\" not in line and \"#\" not in line:\n",
    "        new_percent = float(line.strip().split()[10])\n",
    "        percents.append(new_percent)\n",
    "        loci_list.append(line.strip().split()[0])\n",
    "\n",
    "infile.close()"
   ]
  },
  {
   "cell_type": "code",
   "execution_count": 37,
   "metadata": {},
   "outputs": [
    {
     "data": {
      "image/png": "[encoded data removed]",
      "text/plain": [
       "<matplotlib.figure.Figure at 0x7fccfccdf890>"
      ]
     },
     "metadata": {},
     "output_type": "display_data"
    }
   ],
   "source": [
    "import numpy as np\n",
    "import matplotlib.pyplot as plt\n",
    "\n",
    "\n",
    "plt.hist(percents, bins = np.arange(-0.1, 1.1, .05)+0.05, color = \"darkcyan\")\n",
    "plt.suptitle(\"POST HWE FILTER: Distribution of % of populations out of HWE\")\n",
    "plt.xlabel(\"% of populations out of HWE (by locus)\")\n",
    "plt.ylabel(\"# Loci\")\n",
    "plt.show()"
   ]
  },
  {
   "cell_type": "code",
   "execution_count": 38,
   "metadata": {
    "collapsed": true
   },
   "outputs": [],
   "source": [
    "plt.close()"
   ]
  },
  {
   "cell_type": "markdown",
   "metadata": {},
   "source": [
    "**Remove loci out of HWE from the final filtered file**\n"
   ]
  },
  {
   "cell_type": "code",
   "execution_count": 39,
   "metadata": {},
   "outputs": [
    {
     "data": {
      "text/plain": [
       "u'/mnt/hgfs/Pacific cod/DataAnalysis/PCod-Korea-repo/analyses/HWE/batch8'"
      ]
     },
     "execution_count": 39,
     "metadata": {},
     "output_type": "execute_result"
    }
   ],
   "source": [
    "pwd"
   ]
  },
  {
   "cell_type": "code",
   "execution_count": 40,
   "metadata": {},
   "outputs": [
    {
     "name": "stdout",
     "output_type": "stream",
     "text": [
      "/mnt/hgfs/Pacific cod/DataAnalysis/PCod-Korea-repo/analyses\n"
     ]
    }
   ],
   "source": [
    "cd ../../"
   ]
  },
  {
   "cell_type": "code",
   "execution_count": 43,
   "metadata": {},
   "outputs": [
    {
     "name": "stdout",
     "output_type": "stream",
     "text": [
      "Preparing to copy  5405  loci from old file\n",
      "\n",
      "Wrote  5405  loci to new matrix file.\n",
      "Removed  614  loci.\n",
      "All loci to keep were copied.\n"
     ]
    }
   ],
   "source": [
    "old = open(\"../stacks_b8_wgenome/batch_8.filteredMAF_filteredIndivids30_filteredLoci\", \"r\")\n",
    "locifile = open(\"HWE/batch8/batch_8_HWEpvals_filtered.txt\", \"r\")\n",
    "new = open(\"../stacks_b8_wgenome/batch_8.filteredMAF_filteredIndivids30_filteredLoci_filteredHWE.txt\", \"w\")\n",
    "blacklisted = open(\"../stacks_b8_wgenome/batch_8.filteredMAF_filteredIndivids30_filteredLoci_filteredHWE_BAD.txt\", \"w\")\n",
    "\n",
    "## Note that my matrix file here has loci as column header, so I need to transpose it!\n",
    "data_matrix = []\n",
    "for line in old:\n",
    "\ttmp_line = ''\n",
    "\ttmp_line += line.strip()\n",
    "\tdata_matrix.append(tmp_line.split(' '))\n",
    "old.close()\n",
    "\n",
    "\n",
    "#write sample names to new file\n",
    "new.write(\"\\t\".join(data_matrix[0]) + \"\\n\")\n",
    "blacklisted.write(\"\\t\".join(data_matrix[0]) + \"\\n\")\n",
    "\n",
    "#get list of loci that should be retained\n",
    "loci_to_keep = []\n",
    "\n",
    "for line in locifile: \n",
    "    if \"locus\" not in line:\n",
    "        loci_to_keep.append(line.strip().split()[0]) \n",
    "locifile.close()\n",
    "\n",
    "print \"Preparing to copy \", len(loci_to_keep), \" loci from old file\"\n",
    "print \"\"\n",
    "\n",
    "\n",
    "cp_count = 0\n",
    "rm_count = 0\n",
    "loci_kept = []\n",
    "\n",
    "for line in data_matrix[1:]: \n",
    "    locusID = line[0]\n",
    "    if locusID in loci_to_keep:\n",
    "        new.write(\"\\t\".join(line) + \"\\n\")\n",
    "        cp_count += 1\n",
    "        loci_kept.append(locusID)\n",
    "    else:\n",
    "        blacklisted.write(\"\\t\".join(line) + \"\\n\")\n",
    "        rm_count += 1\n",
    "new.close()\n",
    "blacklisted.close()\n",
    "\n",
    "print \"Wrote \", cp_count, \" loci to new matrix file.\"\n",
    "print \"Removed \", rm_count, \" loci.\"\n",
    "\n",
    "if len([i for i in loci_to_keep if i in loci_kept]) == len(loci_to_keep):\n",
    "    print \"All loci to keep were copied.\"\n",
    "else:\n",
    "    print \"uhoh! not all loci to keep were copied.\"\n",
    "    print \"the following loci were not copied over:\"\n",
    "    print [i for i in loci_to_keep if i not in loci_kept]"
   ]
  },
  {
   "cell_type": "markdown",
   "metadata": {},
   "source": [
    "** Create Final Genepop **"
   ]
  },
  {
   "cell_type": "code",
   "execution_count": 44,
   "metadata": {},
   "outputs": [
    {
     "name": "stdout",
     "output_type": "stream",
     "text": [
      "/mnt/hgfs/Pacific cod/DataAnalysis/PCod-Korea-repo\n"
     ]
    }
   ],
   "source": [
    "cd ../"
   ]
  },
  {
   "cell_type": "code",
   "execution_count": 48,
   "metadata": {},
   "outputs": [
    {
     "name": "stdout",
     "output_type": "stream",
     "text": [
      "You have 9 populations.\n",
      "These are your populations, with the number of samples in each:\n",
      "OrderedDict([('Pohang15', 34), ('Geoje15', 37), ('Namhae15', 19), ('YellowSea16', 30), ('Jukbyeon07', 37), ('JinhaeBay07', 44), ('JinhaeBay08', 46), ('Boryeong07', 24), ('Geoje14', 35)])\n",
      "creating script for part 2...\n",
      "calling script for part 2...\n",
      "transposing genotypes matrix...\n",
      "writing loci into genepop file...\n",
      "writing genotypes into genepop file by population...\n",
      "done.\n"
     ]
    }
   ],
   "source": [
    "!python scripts/PostStacksFiltering/csv_conversion_forGENEPOP.py \\\n",
    "-f batch_8.filteredMAF_filteredIndivids30_filteredLoci_filteredHWE.txt \\\n",
    "-o batch_8_filteredMAF_filteredIndivids30_filteredLoci_filteredHWE.gen \\\n",
    "-m PopMap_L1-5_mdFilter_b8.txt \\\n",
    "-pm scripts \\\n",
    "-ps stacks_b8_wgenome \\\n",
    "-t \"Korean Pacific cod filtered final genepop, stacks batch 8 MF 9/29/2017\" \\\n",
    "-split \"tab\""
   ]
  },
  {
   "cell_type": "markdown",
   "metadata": {},
   "source": [
    "### FINAL GENEPOP FILE: `batch_8.filteredMAF_filteredIndivids30_filteredLoci_filteredHWE.gen`"
   ]
  },
  {
   "cell_type": "code",
   "execution_count": null,
   "metadata": {
    "collapsed": true
   },
   "outputs": [],
   "source": []
  }
 ],
 "metadata": {
  "anaconda-cloud": {},
  "kernelspec": {
   "display_name": "Python 2",
   "language": "python",
   "name": "python2"
  },
  "language_info": {
   "codemirror_mode": {
    "name": "ipython",
    "version": 2
   },
   "file_extension": ".py",
   "mimetype": "text/x-python",
   "name": "python",
   "nbconvert_exporter": "python",
   "pygments_lexer": "ipython2",
   "version": "2.7.13"
  }
 },
 "nbformat": 4,
 "nbformat_minor": 1
}